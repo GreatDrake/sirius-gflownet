{
 "cells": [
  {
   "cell_type": "code",
   "execution_count": 4,
   "id": "07c76602-8e5a-47aa-9eda-23641aeef621",
   "metadata": {},
   "outputs": [
    {
     "name": "stdout",
     "output_type": "stream",
     "text": [
      "2.1.2+cpu\n"
     ]
    }
   ],
   "source": [
    "import torch\n",
    "print(torch.__version__)\n",
    "from math import log"
   ]
  },
  {
   "cell_type": "code",
   "execution_count": 21,
   "id": "f2a7f88d-e4e4-4fd1-af9c-54d04a33c1a6",
   "metadata": {},
   "outputs": [],
   "source": [
    "D = 4\n",
    "H = 8\n",
    "R0 = 0.1\n",
    "op = int(1e5)\n",
    "batch = 3\n",
    "hidden_size = 100\n",
    "opt = 0.01"
   ]
  },
  {
   "cell_type": "code",
   "execution_count": 22,
   "id": "99ea75a3-67a2-403d-b611-a531238b4e34",
   "metadata": {},
   "outputs": [],
   "source": [
    "from collections import OrderedDict\n",
    "\n",
    "model = torch.nn.Sequential(\n",
    "    OrderedDict([\n",
    "        (\"linear_1\", torch.nn.Linear(D * H, hidden_size)),\n",
    "        (\"activation_1\", torch.nn.ReLU()),\n",
    "        (\"linear_2\", torch.nn.Linear(hidden_size, D + 1))\n",
    "    ])\n",
    ")\n",
    "log_Z = torch.nn.Parameter(torch.tensor(0.0, requires_grad=True))\n",
    "log_Z_optimizer = torch.optim.Adam([log_Z], opt)"
   ]
  },
  {
   "cell_type": "code",
   "execution_count": 23,
   "id": "720e19e3-a941-4814-817a-ceddaa048934",
   "metadata": {},
   "outputs": [],
   "source": [
    "optimizer = torch.optim.Adam(\n",
    "    model.parameters(),  # Передаём все тензоры, учавствующие в градиентном спуске\n",
    "    lr=0.0001,  # learning rate - величина шага градиентного спуска\n",
    ")\n"
   ]
  },
  {
   "cell_type": "code",
   "execution_count": 24,
   "id": "df583d8a-a4b8-4cb1-b84c-49ae618eb839",
   "metadata": {},
   "outputs": [],
   "source": [
    "def RIGHT_staaate(state):\n",
    "    global H, D\n",
    "    x = len(state)\n",
    "    res = [[float(0)] * H * D for i in range(x)]\n",
    "    for k in range(0, x):\n",
    "        for i in range(0, D):\n",
    "            res[k][state[k][i] + i * H] = float(1)\n",
    "    return res"
   ]
  },
  {
   "cell_type": "code",
   "execution_count": 25,
   "id": "a6f0f3d3-f59b-4361-a4bf-addc1ee29dec",
   "metadata": {},
   "outputs": [],
   "source": [
    "def reward(x):\n",
    "    global R0, D, H\n",
    "    f1 = True\n",
    "    f2 = True\n",
    "    for d in range(D):\n",
    "        if not (0.25 < abs(x[d] / (H - 1) - 0.5) <= 0.5): f1 = False\n",
    "        if not (0.3 < abs(x[d] / (H - 1) - 0.5) < 0.4): f2 = False\n",
    "    return (R0 + 0.5 * f1 + 2 * f2)\n"
   ]
  },
  {
   "cell_type": "code",
   "execution_count": 33,
   "id": "c1e83928-d84f-4406-8112-deecf1effad7",
   "metadata": {},
   "outputs": [],
   "source": [
    "def loss_fn():\n",
    "    global H, D, log_Z, batch\n",
    "    used = [0] * batch\n",
    "    allstate = [[0] * D for i in range(batch)]\n",
    "    way = [[]] * batch\n",
    "    m = torch.nn.Softmax(dim=1)\n",
    "    while True:\n",
    "        state = []\n",
    "        for j in range(batch):\n",
    "            if not used[j]:\n",
    "                state.append(allstate[j])\n",
    "        if len(state) == 0:\n",
    "            break\n",
    "        p_Fs = model(torch.tensor(RIGHT_staaate(state)))\n",
    "        num = 0\n",
    "        for j in range(0, batch):\n",
    "            if used[j]:\n",
    "                continue\n",
    "            for i in range(0, D):\n",
    "                if allstate[j][i] == H - 1:\n",
    "                    p_Fs[num][i] = -float(\"inf\")\n",
    "            num += 1\n",
    "        p_Fs = m(p_Fs)\n",
    "        ind = torch.distributions.categorical.Categorical(p_Fs).sample()\n",
    "        num = 0\n",
    "        for j in range(0, batch):\n",
    "            if used[j]:\n",
    "                continue\n",
    "            p_B = 0\n",
    "            for i in range(0, D):\n",
    "                if allstate[j][i] >= 1:\n",
    "                    p_B += 1\n",
    "            p_B = max(p_B, 1)\n",
    "            way[j].append([torch.log(p_Fs[num][ind[num]]), log(1 / p_B)])\n",
    "            if ind[num] == D:\n",
    "                #way[j][-1][1] = 1\n",
    "                way[j].append([0, 0])\n",
    "                used[j] = True\n",
    "            else:\n",
    "                assert(allstate[j][ind[num]] != H - 1)\n",
    "                allstate[j][ind[num]] += 1\n",
    "            num += 1\n",
    "    j = 0\n",
    "    loss = 0\n",
    "    for state in allstate:\n",
    "        cur = log_Z - log(reward(state))\n",
    "        for i in range(0, len(way[j]) - 1):\n",
    "            cur += way[j][i][0] - way[j][i + 1][1]\n",
    "        cur = cur ** 2\n",
    "        loss += cur\n",
    "        j += 1\n",
    "    loss /= batch\n",
    "    return loss, allstate"
   ]
  },
  {
   "cell_type": "code",
   "execution_count": 34,
   "id": "91478af8-1a80-45a4-9aaa-36af5e5f13e7",
   "metadata": {},
   "outputs": [],
   "source": [
    "from itertools import product\n",
    "\n",
    "rewards = torch.zeros(*[H for i in range(D)])\n",
    "coord_diap = [range(H) for _ in range(D)]\n",
    "\n",
    "for coord in product(*coord_diap):\n",
    "    rewards[tuple(coord)] = reward(torch.tensor(coord))\n",
    "\n",
    "rewards /= rewards.sum()\n",
    "\n",
    "def loss2(a, samples=1000):\n",
    "    counter = torch.zeros(*[H for i in range(D)])\n",
    "    for i in range(samples):\n",
    "        counter[tuple(a[i])] += 1\n",
    "\n",
    "    counter /= counter.sum()\n",
    "\n",
    "    return (rewards - counter).abs().sum()\n"
   ]
  },
  {
   "cell_type": "code",
   "execution_count": null,
   "id": "5a94e5f5-8e93-44fe-b7cb-6f699339af81",
   "metadata": {},
   "outputs": [
    {
     "name": "stdout",
     "output_type": "stream",
     "text": [
      "0\n",
      "tensor(1.9989)\n",
      "300\n",
      "tensor(1.8359)\n",
      "600\n",
      "tensor(1.7242)\n",
      "900\n",
      "tensor(1.6118)\n",
      "1200\n",
      "tensor(1.5364)\n",
      "1500\n",
      "tensor(1.4557)\n",
      "1800\n",
      "tensor(1.3834)\n",
      "2100\n",
      "tensor(1.3173)\n",
      "2400\n",
      "tensor(1.2650)\n",
      "2700\n",
      "tensor(1.2179)\n",
      "3000\n",
      "tensor(1.1682)\n",
      "3300\n",
      "tensor(1.1198)\n",
      "3600\n",
      "tensor(1.0817)\n",
      "3900\n",
      "tensor(1.0408)\n"
     ]
    }
   ],
   "source": [
    "a = []\n",
    "for i in range(op):\n",
    "    optimizer.zero_grad()\n",
    "    log_Z_optimizer.zero_grad()\n",
    "    loss = 0\n",
    "    x = loss_fn()\n",
    "    loss = x[0]\n",
    "    for j in x[1]:\n",
    "        a.append(j)\n",
    "    loss.backward()\n",
    "    log_Z_optimizer.step()\n",
    "    optimizer.step()\n",
    "    if i % 100 == 0:\n",
    "        print(i * batch)\n",
    "        assert(torch.tensor(a[-10000:]).max() <= 7)\n",
    "        print(loss2(a[-10000:], len(a[-10000:])))"
   ]
  },
  {
   "cell_type": "code",
   "execution_count": null,
   "id": "1a495fa7-e050-4044-89a6-e6f704f2d864",
   "metadata": {},
   "outputs": [],
   "source": []
  },
  {
   "cell_type": "code",
   "execution_count": null,
   "id": "03bfb52b-84ca-444c-852a-6ddd257f05e8",
   "metadata": {},
   "outputs": [],
   "source": []
  }
 ],
 "metadata": {
  "kernelspec": {
   "display_name": "Python 3 (ipykernel)",
   "language": "python",
   "name": "python3"
  },
  "language_info": {
   "codemirror_mode": {
    "name": "ipython",
    "version": 3
   },
   "file_extension": ".py",
   "mimetype": "text/x-python",
   "name": "python",
   "nbconvert_exporter": "python",
   "pygments_lexer": "ipython3",
   "version": "3.11.7"
  }
 },
 "nbformat": 4,
 "nbformat_minor": 5
}
