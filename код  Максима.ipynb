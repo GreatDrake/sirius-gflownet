{
 "cells": [
  {
   "cell_type": "code",
   "execution_count": 1,
   "id": "07c76602-8e5a-47aa-9eda-23641aeef621",
   "metadata": {},
   "outputs": [
    {
     "name": "stdout",
     "output_type": "stream",
     "text": [
      "2.1.2+cpu\n"
     ]
    }
   ],
   "source": [
    "import torch\n",
    "print(torch.__version__)\n",
    "from math import log"
   ]
  },
  {
   "cell_type": "code",
   "execution_count": 2,
   "id": "f2a7f88d-e4e4-4fd1-af9c-54d04a33c1a6",
   "metadata": {},
   "outputs": [],
   "source": [
    "D = 4\n",
    "H = 8\n",
    "R0 = 0.1\n",
    "op = int(1e5)\n",
    "batch = 10\n",
    "hidden_size = 100\n",
    "opt = 0.01"
   ]
  },
  {
   "cell_type": "code",
   "execution_count": 3,
   "id": "99ea75a3-67a2-403d-b611-a531238b4e34",
   "metadata": {},
   "outputs": [],
   "source": [
    "from collections import OrderedDict\n",
    "\n",
    "model = torch.nn.Sequential(\n",
    "    OrderedDict([\n",
    "        (\"linear_1\", torch.nn.Linear(D * H, hidden_size)),\n",
    "        (\"activation_1\", torch.nn.ReLU()),\n",
    "        (\"linear_2\", torch.nn.Linear(hidden_size, D + 1))\n",
    "    ])\n",
    ")\n",
    "log_Z = torch.nn.Parameter(torch.tensor(0.0, requires_grad=True))\n",
    "log_Z_optimizer = torch.optim.Adam([log_Z], opt)"
   ]
  },
  {
   "cell_type": "code",
   "execution_count": 4,
   "id": "720e19e3-a941-4814-817a-ceddaa048934",
   "metadata": {},
   "outputs": [],
   "source": [
    "optimizer = torch.optim.Adam(\n",
    "    model.parameters(),  # Передаём все тензоры, учавствующие в градиентном спуске\n",
    "    lr=0.0001,  # learning rate - величина шага градиентного спуска\n",
    ")"
   ]
  },
  {
   "cell_type": "code",
   "execution_count": 5,
   "id": "df583d8a-a4b8-4cb1-b84c-49ae618eb839",
   "metadata": {},
   "outputs": [],
   "source": [
    "def RIGHT_staaate(state):\n",
    "    global H, D, batch\n",
    "    res = [[float(0)] * H * D for i in range(batch)]\n",
    "    for k in range(0, batch):\n",
    "        for i in range(0, D):\n",
    "            res[k][state[k][i] + i * H] = float(1)\n",
    "    return res"
   ]
  },
  {
   "cell_type": "code",
   "execution_count": 6,
   "id": "a6f0f3d3-f59b-4361-a4bf-addc1ee29dec",
   "metadata": {},
   "outputs": [],
   "source": [
    "def reward(x):\n",
    "    global R0, D, H\n",
    "    f1 = True\n",
    "    f2 = True\n",
    "    for d in range(D):\n",
    "        if not (0.25 < abs(x[d] / (H - 1) - 0.5) <= 0.5): f1 = False\n",
    "        if not (0.3 < abs(x[d] / (H - 1) - 0.5) < 0.4): f2 = False\n",
    "    return (R0 + 0.5 * f1 + 2 * f2)"
   ]
  },
  {
   "cell_type": "code",
   "execution_count": 10,
   "id": "c1e83928-d84f-4406-8112-deecf1effad7",
   "metadata": {},
   "outputs": [],
   "source": [
    "def loss_fn():\n",
    "    global H, D, log_Z, batch\n",
    "    used = [0] * batch\n",
    "    allstate = [[0] * D for i in range(batch)]\n",
    "    way = [[] for i in range(batch)]\n",
    "    m = torch.nn.Softmax(dim=1)\n",
    "    while True:\n",
    "        p_Fs = model(torch.tensor(RIGHT_staaate(allstate)))\n",
    "        was = False\n",
    "        for j in range(0, batch):\n",
    "            if used[j]:\n",
    "                continue\n",
    "            was = True\n",
    "            for i in range(0, D):\n",
    "                if allstate[j][i] == H - 1:\n",
    "                    p_Fs[j][i] = -float(\"inf\")\n",
    "        if was == False:\n",
    "            break\n",
    "        p_Fs = m(p_Fs)\n",
    "        ind = torch.distributions.categorical.Categorical(p_Fs).sample()\n",
    "        for j in range(0, batch):\n",
    "            if used[j]:\n",
    "                continue\n",
    "            p_B = 0\n",
    "            for i in range(0, D):\n",
    "                if allstate[j][i] >= 1:\n",
    "                    p_B += 1\n",
    "            p_B = max(p_B, 1)\n",
    "            way[j].append([torch.log(p_Fs[j][ind[j]]), log(1 / p_B)])\n",
    "            if ind[j] == D:\n",
    "                #way[j][-1][1] = 1\n",
    "                way[j].append([0, 0])\n",
    "                used[j] = True\n",
    "            else:\n",
    "                assert(allstate[j][ind[j]] != H - 1)\n",
    "                allstate[j][ind[j]] += 1\n",
    "    j = 0\n",
    "    loss = 0\n",
    "    for state in allstate:\n",
    "        cur = log_Z - log(reward(state))\n",
    "        for i in range(0, len(way[j]) - 1):\n",
    "            cur += way[j][i][0] - way[j][i + 1][1]\n",
    "        cur = cur ** 2\n",
    "        loss += cur\n",
    "        j += 1\n",
    "    loss /= batch\n",
    "    return loss, allstate"
   ]
  },
  {
   "cell_type": "code",
   "execution_count": 11,
   "id": "91478af8-1a80-45a4-9aaa-36af5e5f13e7",
   "metadata": {},
   "outputs": [],
   "source": [
    "from itertools import product\n",
    "\n",
    "rewards = torch.zeros(*[H for i in range(D)])\n",
    "coord_diap = [range(H) for _ in range(D)]\n",
    "\n",
    "for coord in product(*coord_diap):\n",
    "    rewards[tuple(coord)] = reward(torch.tensor(coord))\n",
    "\n",
    "rewards /= rewards.sum()\n",
    "\n",
    "def loss2(a, samples=1000):\n",
    "    counter = torch.zeros(*[H for i in range(D)])\n",
    "    for i in range(samples):\n",
    "        counter[tuple(a[i])] += 1\n",
    "\n",
    "    counter /= counter.sum()\n",
    "\n",
    "    return (rewards - counter).abs().sum()"
   ]
  },
  {
   "cell_type": "code",
   "execution_count": null,
   "id": "5a94e5f5-8e93-44fe-b7cb-6f699339af81",
   "metadata": {
    "scrolled": true
   },
   "outputs": [
    {
     "name": "stdout",
     "output_type": "stream",
     "text": [
      "0\n",
      "tensor(1.9888)\n",
      "1000\n",
      "tensor(1.8562)\n",
      "2000\n",
      "tensor(1.7872)\n",
      "3000\n",
      "tensor(1.7301)\n",
      "4000\n",
      "tensor(1.6707)\n",
      "5000\n",
      "tensor(1.6143)\n",
      "6000\n",
      "tensor(1.5658)\n",
      "7000\n",
      "tensor(1.5356)\n",
      "8000\n",
      "tensor(1.5068)\n",
      "9000\n",
      "tensor(1.4747)\n",
      "10000\n",
      "tensor(1.4422)\n",
      "11000\n",
      "tensor(1.3972)\n",
      "12000\n",
      "tensor(1.3542)\n",
      "13000\n",
      "tensor(1.3175)\n",
      "14000\n",
      "tensor(1.2860)\n",
      "15000\n",
      "tensor(1.2558)\n",
      "16000\n",
      "tensor(1.2291)\n",
      "17000\n",
      "tensor(1.2065)\n",
      "18000\n",
      "tensor(1.1838)\n",
      "19000\n",
      "tensor(1.1694)\n",
      "20000\n",
      "tensor(1.1473)\n"
     ]
    }
   ],
   "source": [
    "a = []\n",
    "for i in range(op):\n",
    "    optimizer.zero_grad()\n",
    "    log_Z_optimizer.zero_grad()\n",
    "    loss = 0\n",
    "    x = loss_fn()\n",
    "    loss = x[0]\n",
    "    for j in x[1]:\n",
    "        a.append(j)\n",
    "    loss.backward()\n",
    "    log_Z_optimizer.step()\n",
    "    optimizer.step()\n",
    "    if i % 100 == 0:\n",
    "        print(i * batch)\n",
    "        assert(torch.tensor(a[-10000:]).max() <= 7)\n",
    "        print(loss2(a[-10000:], len(a[-10000:])))"
   ]
  },
  {
   "cell_type": "code",
   "execution_count": null,
   "id": "1a495fa7-e050-4044-89a6-e6f704f2d864",
   "metadata": {},
   "outputs": [],
   "source": []
  },
  {
   "cell_type": "code",
   "execution_count": null,
   "id": "03bfb52b-84ca-444c-852a-6ddd257f05e8",
   "metadata": {},
   "outputs": [],
   "source": []
  }
 ],
 "metadata": {
  "kernelspec": {
   "display_name": "Python 3 (ipykernel)",
   "language": "python",
   "name": "python3"
  },
  "language_info": {
   "codemirror_mode": {
    "name": "ipython",
    "version": 3
   },
   "file_extension": ".py",
   "mimetype": "text/x-python",
   "name": "python",
   "nbconvert_exporter": "python",
   "pygments_lexer": "ipython3",
   "version": "3.11.7"
  }
 },
 "nbformat": 4,
 "nbformat_minor": 5
}
