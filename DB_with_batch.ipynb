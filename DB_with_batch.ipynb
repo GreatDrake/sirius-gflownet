{
 "cells": [
  {
   "cell_type": "code",
   "execution_count": 97,
   "id": "07c76602-8e5a-47aa-9eda-23641aeef621",
   "metadata": {
    "ExecuteTime": {
     "end_time": "2023-12-19T11:34:19.304634Z",
     "start_time": "2023-12-19T11:34:19.283496Z"
    }
   },
   "outputs": [
    {
     "name": "stdout",
     "output_type": "stream",
     "text": [
      "2.1.2\n"
     ]
    }
   ],
   "source": [
    "import torch\n",
    "print(torch.__version__)\n",
    "from math import log"
   ]
  },
  {
   "cell_type": "code",
   "execution_count": 98,
   "id": "f2a7f88d-e4e4-4fd1-af9c-54d04a33c1a6",
   "metadata": {
    "ExecuteTime": {
     "end_time": "2023-12-19T11:34:19.304982Z",
     "start_time": "2023-12-19T11:34:19.288757Z"
    }
   },
   "outputs": [],
   "source": [
    "D = 4\n",
    "H = 8\n",
    "R0 = 0.1\n",
    "op = int(1e5)\n",
    "batch = 1\n",
    "hidden_size = 100\n",
    "opt = 0.01"
   ]
  },
  {
   "cell_type": "code",
   "execution_count": 99,
   "id": "99ea75a3-67a2-403d-b611-a531238b4e34",
   "metadata": {
    "ExecuteTime": {
     "end_time": "2023-12-19T11:34:19.305756Z",
     "start_time": "2023-12-19T11:34:19.294127Z"
    }
   },
   "outputs": [],
   "source": [
    "from collections import OrderedDict\n",
    "\n",
    "model = torch.nn.Sequential(\n",
    "    OrderedDict([\n",
    "        (\"linear_1\", torch.nn.Linear(D * H, hidden_size)),\n",
    "        (\"activation_1\", torch.nn.ReLU()),\n",
    "        (\"linear_2\", torch.nn.Linear(hidden_size, D + 2))\n",
    "    ])\n",
    ")"
   ]
  },
  {
   "cell_type": "code",
   "execution_count": 100,
   "id": "720e19e3-a941-4814-817a-ceddaa048934",
   "metadata": {
    "ExecuteTime": {
     "end_time": "2023-12-19T11:34:19.306183Z",
     "start_time": "2023-12-19T11:34:19.301054Z"
    }
   },
   "outputs": [],
   "source": [
    "optimizer = torch.optim.Adam(\n",
    "    model.parameters(),  # Передаём все тензоры, учавствующие в градиентном спуске\n",
    "    lr=0.0001,  # learning rate - величина шага градиентного спуска\n",
    ")\n"
   ]
  },
  {
   "cell_type": "code",
   "execution_count": 101,
   "id": "df583d8a-a4b8-4cb1-b84c-49ae618eb839",
   "metadata": {
    "ExecuteTime": {
     "end_time": "2023-12-19T11:34:19.308053Z",
     "start_time": "2023-12-19T11:34:19.305054Z"
    }
   },
   "outputs": [],
   "source": [
    "def RIGHT_staaate(state):\n",
    "    global H, D, batch\n",
    "    res = [[float(0)] * H * D for i in range(batch)]\n",
    "    for k in range(0, batch):\n",
    "        for i in range(0, D):\n",
    "            res[k][state[k][i] + i * H] = float(1)\n",
    "    return res"
   ]
  },
  {
   "cell_type": "code",
   "execution_count": 102,
   "id": "a6f0f3d3-f59b-4361-a4bf-addc1ee29dec",
   "metadata": {
    "ExecuteTime": {
     "end_time": "2023-12-19T11:34:19.324447Z",
     "start_time": "2023-12-19T11:34:19.309837Z"
    }
   },
   "outputs": [],
   "source": [
    "def reward(x):\n",
    "    global R0, D, H\n",
    "    f1 = True\n",
    "    f2 = True\n",
    "    for d in range(D):\n",
    "        if not (0.25 < abs(x[d] / (H - 1) - 0.5) <= 0.5): f1 = False\n",
    "        if not (0.3 < abs(x[d] / (H - 1) - 0.5) < 0.4): f2 = False\n",
    "    return (R0 + 0.5 * f1 + 2 * f2)\n"
   ]
  },
  {
   "cell_type": "code",
   "execution_count": 103,
   "id": "c1e83928-d84f-4406-8112-deecf1effad7",
   "metadata": {
    "ExecuteTime": {
     "end_time": "2023-12-19T11:34:19.348285Z",
     "start_time": "2023-12-19T11:34:19.321582Z"
    }
   },
   "outputs": [],
   "source": [
    "def loss_fn():\n",
    "    global H, D, batch\n",
    "    used = [0] * batch\n",
    "    allstate = [[0] * D for i in range(batch)]\n",
    "    way = [[]] * batch\n",
    "    while True:\n",
    "        pred = model(torch.tensor(RIGHT_staaate(allstate)))\n",
    "        p_Fs = pred[:, 0: -1]\n",
    "        Fs = pred[:, -1]\n",
    "        was = False\n",
    "        for j in range(0, batch):\n",
    "            if used[j]:\n",
    "                continue\n",
    "            was = True\n",
    "            for i in range(0, D):\n",
    "                if allstate[j][i] == H - 1:\n",
    "                    p_Fs[j][i] = -float(\"inf\")\n",
    "        if was == False:\n",
    "            break\n",
    "        m = torch.nn.Softmax(dim=1)\n",
    "        p_Fs = m(p_Fs)\n",
    "        while True:\n",
    "            ind = torch.distributions.categorical.Categorical(p_Fs).sample()\n",
    "            iscorrect = True\n",
    "            for j in range(0, batch):\n",
    "                if used[j] or ind[j] == D:\n",
    "                    continue\n",
    "                if allstate[j][ind[j]] == H - 1:\n",
    "                    iscorrect = False\n",
    "            if iscorrect == False:\n",
    "                print(\"OPS!\")\n",
    "                continue\n",
    "            for j in range(0, batch):\n",
    "                if used[j]:\n",
    "                    continue\n",
    "                p_B = 0\n",
    "                for i in range(0, D):\n",
    "                    if allstate[j][i] >= 1:\n",
    "                        p_B += 1\n",
    "                p_B = max(p_B, 1)\n",
    "                way[j].append([Fs[j], torch.log(p_Fs[j][ind[j]]), log(1 / p_B)])\n",
    "                if ind[j] == D:\n",
    "                    #way[j][-1][1] = 1\n",
    "                    way.append([log(reward(allstate[j])), 0, 0])\n",
    "                    used[j] = True\n",
    "                else:\n",
    "                    assert(allstate[j][ind[j]] != H - 1)\n",
    "                    allstate[j][ind[j]] += 1\n",
    "            break\n",
    "    j = 0\n",
    "    loss = torch.tensor(0.0)\n",
    "    for state in allstate:\n",
    "        for i in range(0, len(way[j]) - 1):\n",
    "            loss += (way[j][i][0] + way[j][i][1] - way[j][i + 1][0] - way[j][i + 1][2]) ** 2\n",
    "        j += 1\n",
    "    loss /= batch\n",
    "    return loss, allstate"
   ]
  },
  {
   "cell_type": "code",
   "execution_count": 104,
   "id": "91478af8-1a80-45a4-9aaa-36af5e5f13e7",
   "metadata": {
    "ExecuteTime": {
     "end_time": "2023-12-19T11:34:19.726289Z",
     "start_time": "2023-12-19T11:34:19.326207Z"
    }
   },
   "outputs": [],
   "source": [
    "from itertools import product\n",
    "\n",
    "rewards = torch.zeros(*[H for i in range(D)])\n",
    "coord_diap = [range(H) for _ in range(D)]\n",
    "\n",
    "for coord in product(*coord_diap):\n",
    "    rewards[tuple(coord)] = reward(torch.tensor(coord))\n",
    "\n",
    "rewards /= rewards.sum()\n",
    "\n",
    "def loss2(a, samples=1000):\n",
    "    counter = torch.zeros(*[H for i in range(D)])\n",
    "    for i in range(samples):\n",
    "        counter[tuple(a[i])] += 1\n",
    "\n",
    "    counter /= counter.sum()\n",
    "\n",
    "    return (rewards - counter).abs().sum()\n"
   ]
  },
  {
   "cell_type": "code",
   "execution_count": 105,
   "id": "5a94e5f5-8e93-44fe-b7cb-6f699339af81",
   "metadata": {
    "ExecuteTime": {
     "end_time": "2023-12-19T11:34:19.796108Z",
     "start_time": "2023-12-19T11:34:19.730322Z"
    }
   },
   "outputs": [
    {
     "name": "stdout",
     "output_type": "stream",
     "text": [
      "tensor(3.9072, grad_fn=<DivBackward0>)\n",
      "0\n",
      "tensor(1.9979)\n",
      "tensor(4.1165, grad_fn=<DivBackward0>)\n",
      "tensor(4.5479, grad_fn=<DivBackward0>)\n",
      "tensor(4.1908, grad_fn=<DivBackward0>)\n",
      "tensor(9.4090, grad_fn=<DivBackward0>)\n",
      "tensor(5.3754, grad_fn=<DivBackward0>)\n",
      "tensor(6.5991, grad_fn=<DivBackward0>)\n",
      "tensor(5.6392, grad_fn=<DivBackward0>)\n",
      "tensor(0.)\n"
     ]
    },
    {
     "ename": "RuntimeError",
     "evalue": "element 0 of tensors does not require grad and does not have a grad_fn",
     "output_type": "error",
     "traceback": [
      "\u001B[0;31m---------------------------------------------------------------------------\u001B[0m",
      "\u001B[0;31mRuntimeError\u001B[0m                              Traceback (most recent call last)",
      "Cell \u001B[0;32mIn[105], line 10\u001B[0m\n\u001B[1;32m      8\u001B[0m \u001B[38;5;28;01mfor\u001B[39;00m j \u001B[38;5;129;01min\u001B[39;00m x[\u001B[38;5;241m1\u001B[39m]:\n\u001B[1;32m      9\u001B[0m     a\u001B[38;5;241m.\u001B[39mappend(j)\n\u001B[0;32m---> 10\u001B[0m \u001B[43mloss\u001B[49m\u001B[38;5;241;43m.\u001B[39;49m\u001B[43mbackward\u001B[49m\u001B[43m(\u001B[49m\u001B[43m)\u001B[49m\n\u001B[1;32m     11\u001B[0m optimizer\u001B[38;5;241m.\u001B[39mstep()\n\u001B[1;32m     12\u001B[0m \u001B[38;5;28;01mif\u001B[39;00m i \u001B[38;5;241m%\u001B[39m \u001B[38;5;241m100\u001B[39m \u001B[38;5;241m==\u001B[39m \u001B[38;5;241m0\u001B[39m:\n",
      "File \u001B[0;32m~/PycharmProjects/GFlowNetworks/venv/lib/python3.9/site-packages/torch/_tensor.py:492\u001B[0m, in \u001B[0;36mTensor.backward\u001B[0;34m(self, gradient, retain_graph, create_graph, inputs)\u001B[0m\n\u001B[1;32m    482\u001B[0m \u001B[38;5;28;01mif\u001B[39;00m has_torch_function_unary(\u001B[38;5;28mself\u001B[39m):\n\u001B[1;32m    483\u001B[0m     \u001B[38;5;28;01mreturn\u001B[39;00m handle_torch_function(\n\u001B[1;32m    484\u001B[0m         Tensor\u001B[38;5;241m.\u001B[39mbackward,\n\u001B[1;32m    485\u001B[0m         (\u001B[38;5;28mself\u001B[39m,),\n\u001B[0;32m   (...)\u001B[0m\n\u001B[1;32m    490\u001B[0m         inputs\u001B[38;5;241m=\u001B[39minputs,\n\u001B[1;32m    491\u001B[0m     )\n\u001B[0;32m--> 492\u001B[0m \u001B[43mtorch\u001B[49m\u001B[38;5;241;43m.\u001B[39;49m\u001B[43mautograd\u001B[49m\u001B[38;5;241;43m.\u001B[39;49m\u001B[43mbackward\u001B[49m\u001B[43m(\u001B[49m\n\u001B[1;32m    493\u001B[0m \u001B[43m    \u001B[49m\u001B[38;5;28;43mself\u001B[39;49m\u001B[43m,\u001B[49m\u001B[43m \u001B[49m\u001B[43mgradient\u001B[49m\u001B[43m,\u001B[49m\u001B[43m \u001B[49m\u001B[43mretain_graph\u001B[49m\u001B[43m,\u001B[49m\u001B[43m \u001B[49m\u001B[43mcreate_graph\u001B[49m\u001B[43m,\u001B[49m\u001B[43m \u001B[49m\u001B[43minputs\u001B[49m\u001B[38;5;241;43m=\u001B[39;49m\u001B[43minputs\u001B[49m\n\u001B[1;32m    494\u001B[0m \u001B[43m\u001B[49m\u001B[43m)\u001B[49m\n",
      "File \u001B[0;32m~/PycharmProjects/GFlowNetworks/venv/lib/python3.9/site-packages/torch/autograd/__init__.py:251\u001B[0m, in \u001B[0;36mbackward\u001B[0;34m(tensors, grad_tensors, retain_graph, create_graph, grad_variables, inputs)\u001B[0m\n\u001B[1;32m    246\u001B[0m     retain_graph \u001B[38;5;241m=\u001B[39m create_graph\n\u001B[1;32m    248\u001B[0m \u001B[38;5;66;03m# The reason we repeat the same comment below is that\u001B[39;00m\n\u001B[1;32m    249\u001B[0m \u001B[38;5;66;03m# some Python versions print out the first line of a multi-line function\u001B[39;00m\n\u001B[1;32m    250\u001B[0m \u001B[38;5;66;03m# calls in the traceback and some print out the last line\u001B[39;00m\n\u001B[0;32m--> 251\u001B[0m \u001B[43mVariable\u001B[49m\u001B[38;5;241;43m.\u001B[39;49m\u001B[43m_execution_engine\u001B[49m\u001B[38;5;241;43m.\u001B[39;49m\u001B[43mrun_backward\u001B[49m\u001B[43m(\u001B[49m\u001B[43m  \u001B[49m\u001B[38;5;66;43;03m# Calls into the C++ engine to run the backward pass\u001B[39;49;00m\n\u001B[1;32m    252\u001B[0m \u001B[43m    \u001B[49m\u001B[43mtensors\u001B[49m\u001B[43m,\u001B[49m\n\u001B[1;32m    253\u001B[0m \u001B[43m    \u001B[49m\u001B[43mgrad_tensors_\u001B[49m\u001B[43m,\u001B[49m\n\u001B[1;32m    254\u001B[0m \u001B[43m    \u001B[49m\u001B[43mretain_graph\u001B[49m\u001B[43m,\u001B[49m\n\u001B[1;32m    255\u001B[0m \u001B[43m    \u001B[49m\u001B[43mcreate_graph\u001B[49m\u001B[43m,\u001B[49m\n\u001B[1;32m    256\u001B[0m \u001B[43m    \u001B[49m\u001B[43minputs\u001B[49m\u001B[43m,\u001B[49m\n\u001B[1;32m    257\u001B[0m \u001B[43m    \u001B[49m\u001B[43mallow_unreachable\u001B[49m\u001B[38;5;241;43m=\u001B[39;49m\u001B[38;5;28;43;01mTrue\u001B[39;49;00m\u001B[43m,\u001B[49m\n\u001B[1;32m    258\u001B[0m \u001B[43m    \u001B[49m\u001B[43maccumulate_grad\u001B[49m\u001B[38;5;241;43m=\u001B[39;49m\u001B[38;5;28;43;01mTrue\u001B[39;49;00m\u001B[43m,\u001B[49m\n\u001B[1;32m    259\u001B[0m \u001B[43m\u001B[49m\u001B[43m)\u001B[49m\n",
      "\u001B[0;31mRuntimeError\u001B[0m: element 0 of tensors does not require grad and does not have a grad_fn"
     ]
    }
   ],
   "source": [
    "a = []\n",
    "for i in range(op):\n",
    "    optimizer.zero_grad()\n",
    "    loss = 0\n",
    "    x = loss_fn()\n",
    "    loss = x[0]\n",
    "    print(loss)\n",
    "    for j in x[1]:\n",
    "        a.append(j)\n",
    "    loss.backward()\n",
    "    optimizer.step()\n",
    "    if i % 100 == 0:\n",
    "        print(i * batch)\n",
    "        assert(torch.tensor(a[-10000:]).max() <= 7)\n",
    "        print(loss2(a[-10000:], len(a[-10000:])))"
   ]
  },
  {
   "cell_type": "code",
   "execution_count": null,
   "outputs": [],
   "source": [],
   "metadata": {
    "collapsed": false,
    "ExecuteTime": {
     "start_time": "2023-12-19T11:34:19.793691Z"
    }
   },
   "id": "184ea20d791b40cb"
  }
 ],
 "metadata": {
  "kernelspec": {
   "display_name": "Python 3 (ipykernel)",
   "language": "python",
   "name": "python3"
  },
  "language_info": {
   "codemirror_mode": {
    "name": "ipython",
    "version": 3
   },
   "file_extension": ".py",
   "mimetype": "text/x-python",
   "name": "python",
   "nbconvert_exporter": "python",
   "pygments_lexer": "ipython3",
   "version": "3.11.7"
  }
 },
 "nbformat": 4,
 "nbformat_minor": 5
}
