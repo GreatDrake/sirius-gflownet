{
 "cells": [
  {
   "cell_type": "code",
   "execution_count": 21,
   "id": "07c76602-8e5a-47aa-9eda-23641aeef621",
   "metadata": {},
   "outputs": [
    {
     "name": "stdout",
     "output_type": "stream",
     "text": [
      "2.1.2+cpu\n"
     ]
    }
   ],
   "source": [
    "import torch\n",
    "print(torch.__version__)\n",
    "from math import log"
   ]
  },
  {
   "cell_type": "code",
   "execution_count": 22,
   "id": "f2a7f88d-e4e4-4fd1-af9c-54d04a33c1a6",
   "metadata": {},
   "outputs": [],
   "source": [
    "D = 4\n",
    "H = 8\n",
    "R0 = 0.1\n",
    "op = int(1e5)\n",
    "batch = 10\n",
    "hidden_size = 100\n",
    "opt = 0.01"
   ]
  },
  {
   "cell_type": "code",
   "execution_count": 23,
   "id": "99ea75a3-67a2-403d-b611-a531238b4e34",
   "metadata": {},
   "outputs": [],
   "source": [
    "from collections import OrderedDict\n",
    "\n",
    "model = torch.nn.Sequential(\n",
    "    OrderedDict([\n",
    "        (\"linear_1\", torch.nn.Linear(D * H, hidden_size)),\n",
    "        (\"activation_1\", torch.nn.ReLU()),\n",
    "        (\"linear_2\", torch.nn.Linear(hidden_size, 2 * D + 1))\n",
    "    ])\n",
    ")\n",
    "log_Z = torch.nn.Parameter(torch.tensor(0.0, requires_grad=True))\n",
    "log_Z_optimizer = torch.optim.Adam([log_Z], opt)"
   ]
  },
  {
   "cell_type": "code",
   "execution_count": 65,
   "id": "720e19e3-a941-4814-817a-ceddaa048934",
   "metadata": {},
   "outputs": [],
   "source": [
    "optimizer = torch.optim.Adam(\n",
    "    model.parameters(),  # Передаём все тензоры, учавствующие в градиентном спуске\n",
    "    lr=0.0001,  # learning rate - величина шага градиентного спуска\n",
    ")"
   ]
  },
  {
   "cell_type": "code",
   "execution_count": 66,
   "id": "df583d8a-a4b8-4cb1-b84c-49ae618eb839",
   "metadata": {},
   "outputs": [],
   "source": [
    "def RIGHT_staaate(state):\n",
    "    global H, D, batch\n",
    "    res = [[float(0)] * H * D for i in range(batch)]\n",
    "    for k in range(0, batch):\n",
    "        for i in range(0, D):\n",
    "            res[k][state[k][i] + i * H] = float(1)\n",
    "    return res"
   ]
  },
  {
   "cell_type": "code",
   "execution_count": 67,
   "id": "a6f0f3d3-f59b-4361-a4bf-addc1ee29dec",
   "metadata": {},
   "outputs": [],
   "source": [
    "def reward(x):\n",
    "    global R0, D, H\n",
    "    f1 = True\n",
    "    f2 = True\n",
    "    for d in range(D):\n",
    "        if not (0.25 < abs(x[d] / (H - 1) - 0.5) <= 0.5): f1 = False\n",
    "        if not (0.3 < abs(x[d] / (H - 1) - 0.5) < 0.4): f2 = False\n",
    "    return (R0 + 0.5 * f1 + 2 * f2)"
   ]
  },
  {
   "cell_type": "code",
   "execution_count": 68,
   "id": "e7ec4806-cf36-4898-b3af-999545dfe761",
   "metadata": {},
   "outputs": [],
   "source": [
    "from itertools import product\n",
    "\n",
    "rewards = torch.zeros(*[H for i in range(D)])\n",
    "coord_diap = [range(H) for _ in range(D)]\n",
    "\n",
    "for coord in product(*coord_diap):\n",
    "    rewards[tuple(coord)] = reward(torch.tensor(coord))\n",
    "\n",
    "rewards /= rewards.sum()\n",
    "\n",
    "def loss2(a, samples=1000):\n",
    "    counter = torch.zeros(*[H for i in range(D)])\n",
    "    for i in range(samples):\n",
    "        counter[tuple(a[i])] += 1\n",
    "\n",
    "    counter /= counter.sum()\n",
    "\n",
    "    return (rewards - counter).abs().sum()"
   ]
  },
  {
   "cell_type": "code",
   "execution_count": 71,
   "id": "c1e83928-d84f-4406-8112-deecf1effad7",
   "metadata": {},
   "outputs": [],
   "source": [
    "def loss_fn():\n",
    "    global H, D, log_Z, batch\n",
    "    used = [0] * batch\n",
    "    allstate = [[0] * D for i in range(batch)]\n",
    "    way = [[] for i in range(batch)]\n",
    "    m = torch.nn.Softmax(dim=1)\n",
    "    pr = [0] * batch\n",
    "    while True:\n",
    "        if torch.tensor(used).min() == 1:\n",
    "            break\n",
    "        pred = model(torch.tensor(RIGHT_staaate(allstate)))\n",
    "        p_Fs = torch.stack([pred[j][0:D + 1] for j in range(0, batch)], dim = 0)\n",
    "        p_Bs = torch.stack([pred[j][D + 1:] for j in range(0, batch)], dim = 0)\n",
    "        for j in range(0, batch):\n",
    "            if used[j]:\n",
    "                continue\n",
    "            for i in range(0, D):\n",
    "                if allstate[j][i] == H - 1:\n",
    "                    p_Fs[j][i] = -float(\"inf\")\n",
    "        p_Fs = m(p_Fs)\n",
    "        p_Bs = m(p_Bs)\n",
    "        ind = torch.distributions.categorical.Categorical(p_Fs).sample()\n",
    "        for j in range(0, batch):\n",
    "            if used[j]:\n",
    "                continue\n",
    "            way[j].append([torch.log(p_Fs[j][ind[j]]), torch.log(p_Bs[j][pr[j]])])\n",
    "            if ind[j] == D:\n",
    "                way[j].append([0, 0])\n",
    "                used[j] = True\n",
    "            else:\n",
    "                assert(allstate[j][ind[j]] != H - 1)\n",
    "                allstate[j][ind[j]] += 1\n",
    "                pr[j] = ind[j]\n",
    "    j = 0\n",
    "    loss = 0\n",
    "    for state in allstate:\n",
    "        cur = log_Z - log(reward(state))\n",
    "        for i in range(0, len(way[j]) - 1):\n",
    "            cur += way[j][i][0] - way[j][i + 1][1]\n",
    "        cur = cur ** 2\n",
    "        loss += cur\n",
    "        j += 1\n",
    "    loss /= batch\n",
    "    return loss, allstate"
   ]
  },
  {
   "cell_type": "code",
   "execution_count": 72,
   "id": "5a94e5f5-8e93-44fe-b7cb-6f699339af81",
   "metadata": {
    "scrolled": true
   },
   "outputs": [
    {
     "name": "stdout",
     "output_type": "stream",
     "text": [
      "0\n",
      "tensor(1.9926)\n",
      "1000\n",
      "tensor(1.9408)\n",
      "2000\n",
      "tensor(1.9267)\n",
      "3000\n",
      "tensor(1.9214)\n",
      "4000\n",
      "tensor(1.9191)\n",
      "5000\n",
      "tensor(1.9169)\n",
      "6000\n",
      "tensor(1.9134)\n",
      "7000\n",
      "tensor(1.9138)\n",
      "8000\n",
      "tensor(1.9150)\n",
      "9000\n",
      "tensor(1.9148)\n"
     ]
    },
    {
     "ename": "KeyboardInterrupt",
     "evalue": "",
     "output_type": "error",
     "traceback": [
      "\u001b[1;31m---------------------------------------------------------------------------\u001b[0m",
      "\u001b[1;31mKeyboardInterrupt\u001b[0m                         Traceback (most recent call last)",
      "Cell \u001b[1;32mIn[72], line 10\u001b[0m\n\u001b[0;32m      8\u001b[0m \u001b[38;5;28;01mfor\u001b[39;00m j \u001b[38;5;129;01min\u001b[39;00m x[\u001b[38;5;241m1\u001b[39m]:\n\u001b[0;32m      9\u001b[0m     a\u001b[38;5;241m.\u001b[39mappend(j)\n\u001b[1;32m---> 10\u001b[0m \u001b[43mloss\u001b[49m\u001b[38;5;241;43m.\u001b[39;49m\u001b[43mbackward\u001b[49m\u001b[43m(\u001b[49m\u001b[43m)\u001b[49m\n\u001b[0;32m     11\u001b[0m log_Z_optimizer\u001b[38;5;241m.\u001b[39mstep()\n\u001b[0;32m     12\u001b[0m optimizer\u001b[38;5;241m.\u001b[39mstep()\n",
      "File \u001b[1;32m~\\AppData\\Roaming\\Python\\Python311\\site-packages\\torch\\_tensor.py:492\u001b[0m, in \u001b[0;36mTensor.backward\u001b[1;34m(self, gradient, retain_graph, create_graph, inputs)\u001b[0m\n\u001b[0;32m    482\u001b[0m \u001b[38;5;28;01mif\u001b[39;00m has_torch_function_unary(\u001b[38;5;28mself\u001b[39m):\n\u001b[0;32m    483\u001b[0m     \u001b[38;5;28;01mreturn\u001b[39;00m handle_torch_function(\n\u001b[0;32m    484\u001b[0m         Tensor\u001b[38;5;241m.\u001b[39mbackward,\n\u001b[0;32m    485\u001b[0m         (\u001b[38;5;28mself\u001b[39m,),\n\u001b[1;32m   (...)\u001b[0m\n\u001b[0;32m    490\u001b[0m         inputs\u001b[38;5;241m=\u001b[39minputs,\n\u001b[0;32m    491\u001b[0m     )\n\u001b[1;32m--> 492\u001b[0m \u001b[43mtorch\u001b[49m\u001b[38;5;241;43m.\u001b[39;49m\u001b[43mautograd\u001b[49m\u001b[38;5;241;43m.\u001b[39;49m\u001b[43mbackward\u001b[49m\u001b[43m(\u001b[49m\n\u001b[0;32m    493\u001b[0m \u001b[43m    \u001b[49m\u001b[38;5;28;43mself\u001b[39;49m\u001b[43m,\u001b[49m\u001b[43m \u001b[49m\u001b[43mgradient\u001b[49m\u001b[43m,\u001b[49m\u001b[43m \u001b[49m\u001b[43mretain_graph\u001b[49m\u001b[43m,\u001b[49m\u001b[43m \u001b[49m\u001b[43mcreate_graph\u001b[49m\u001b[43m,\u001b[49m\u001b[43m \u001b[49m\u001b[43minputs\u001b[49m\u001b[38;5;241;43m=\u001b[39;49m\u001b[43minputs\u001b[49m\n\u001b[0;32m    494\u001b[0m \u001b[43m\u001b[49m\u001b[43m)\u001b[49m\n",
      "File \u001b[1;32m~\\AppData\\Roaming\\Python\\Python311\\site-packages\\torch\\autograd\\__init__.py:251\u001b[0m, in \u001b[0;36mbackward\u001b[1;34m(tensors, grad_tensors, retain_graph, create_graph, grad_variables, inputs)\u001b[0m\n\u001b[0;32m    246\u001b[0m     retain_graph \u001b[38;5;241m=\u001b[39m create_graph\n\u001b[0;32m    248\u001b[0m \u001b[38;5;66;03m# The reason we repeat the same comment below is that\u001b[39;00m\n\u001b[0;32m    249\u001b[0m \u001b[38;5;66;03m# some Python versions print out the first line of a multi-line function\u001b[39;00m\n\u001b[0;32m    250\u001b[0m \u001b[38;5;66;03m# calls in the traceback and some print out the last line\u001b[39;00m\n\u001b[1;32m--> 251\u001b[0m \u001b[43mVariable\u001b[49m\u001b[38;5;241;43m.\u001b[39;49m\u001b[43m_execution_engine\u001b[49m\u001b[38;5;241;43m.\u001b[39;49m\u001b[43mrun_backward\u001b[49m\u001b[43m(\u001b[49m\u001b[43m  \u001b[49m\u001b[38;5;66;43;03m# Calls into the C++ engine to run the backward pass\u001b[39;49;00m\n\u001b[0;32m    252\u001b[0m \u001b[43m    \u001b[49m\u001b[43mtensors\u001b[49m\u001b[43m,\u001b[49m\n\u001b[0;32m    253\u001b[0m \u001b[43m    \u001b[49m\u001b[43mgrad_tensors_\u001b[49m\u001b[43m,\u001b[49m\n\u001b[0;32m    254\u001b[0m \u001b[43m    \u001b[49m\u001b[43mretain_graph\u001b[49m\u001b[43m,\u001b[49m\n\u001b[0;32m    255\u001b[0m \u001b[43m    \u001b[49m\u001b[43mcreate_graph\u001b[49m\u001b[43m,\u001b[49m\n\u001b[0;32m    256\u001b[0m \u001b[43m    \u001b[49m\u001b[43minputs\u001b[49m\u001b[43m,\u001b[49m\n\u001b[0;32m    257\u001b[0m \u001b[43m    \u001b[49m\u001b[43mallow_unreachable\u001b[49m\u001b[38;5;241;43m=\u001b[39;49m\u001b[38;5;28;43;01mTrue\u001b[39;49;00m\u001b[43m,\u001b[49m\n\u001b[0;32m    258\u001b[0m \u001b[43m    \u001b[49m\u001b[43maccumulate_grad\u001b[49m\u001b[38;5;241;43m=\u001b[39;49m\u001b[38;5;28;43;01mTrue\u001b[39;49;00m\u001b[43m,\u001b[49m\n\u001b[0;32m    259\u001b[0m \u001b[43m\u001b[49m\u001b[43m)\u001b[49m\n",
      "\u001b[1;31mKeyboardInterrupt\u001b[0m: "
     ]
    }
   ],
   "source": [
    "a = []\n",
    "for i in range(op):\n",
    "    optimizer.zero_grad()\n",
    "    log_Z_optimizer.zero_grad()\n",
    "    loss = 0\n",
    "    x = loss_fn()\n",
    "    loss = x[0]\n",
    "    for j in x[1]:\n",
    "        a.append(j)\n",
    "    loss.backward()\n",
    "    log_Z_optimizer.step()\n",
    "    optimizer.step()\n",
    "    if i % 100 == 0:\n",
    "        print(i * batch)\n",
    "        assert(torch.tensor(a[-10000:]).max() <= 7)\n",
    "        print(loss2(a[-10000:], len(a[-10000:])))"
   ]
  },
  {
   "cell_type": "code",
   "execution_count": null,
   "id": "1a495fa7-e050-4044-89a6-e6f704f2d864",
   "metadata": {},
   "outputs": [],
   "source": []
  },
  {
   "cell_type": "code",
   "execution_count": null,
   "id": "03bfb52b-84ca-444c-852a-6ddd257f05e8",
   "metadata": {},
   "outputs": [],
   "source": []
  }
 ],
 "metadata": {
  "kernelspec": {
   "display_name": "Python 3 (ipykernel)",
   "language": "python",
   "name": "python3"
  },
  "language_info": {
   "codemirror_mode": {
    "name": "ipython",
    "version": 3
   },
   "file_extension": ".py",
   "mimetype": "text/x-python",
   "name": "python",
   "nbconvert_exporter": "python",
   "pygments_lexer": "ipython3",
   "version": "3.11.7"
  }
 },
 "nbformat": 4,
 "nbformat_minor": 5
}
