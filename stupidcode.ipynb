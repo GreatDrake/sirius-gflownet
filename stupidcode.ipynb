{
 "cells": [
  {
   "cell_type": "code",
   "execution_count": 1,
   "id": "initial_id",
   "metadata": {
    "collapsed": true,
    "ExecuteTime": {
     "end_time": "2023-12-18T11:00:14.188110251Z",
     "start_time": "2023-12-18T11:00:13.420015382Z"
    }
   },
   "outputs": [],
   "source": [
    "import numpy\n",
    "import torch\n",
    "import functools\n",
    "import matplotlib\n",
    "from torch.distributions import Categorical\n",
    "from itertools import product"
   ]
  },
  {
   "cell_type": "code",
   "execution_count": 2,
   "outputs": [],
   "source": [
    "D = 4\n",
    "H = 8\n",
    "R0 = 1\n",
    "\n",
    "\n",
    "def get_reward(pos: torch.Tensor):\n",
    "    reward = R0\n",
    "    reward += functools.reduce(lambda a, b: a * b, [0.25 < abs(pos[d] / (H - 1) - 0.5) <= 0.5 for d in range(D)])\n",
    "    reward += functools.reduce(lambda a, b: a * b, [0.30 < abs(pos[d] / (H - 1) - 0.5) < 0.4 for d in range(D)])\n",
    "    return reward"
   ],
   "metadata": {
    "collapsed": false,
    "ExecuteTime": {
     "end_time": "2023-12-18T11:00:15.143212211Z",
     "start_time": "2023-12-18T11:00:15.136522045Z"
    }
   },
   "id": "7a3e25b2812e65c0"
  },
  {
   "cell_type": "code",
   "execution_count": 3,
   "outputs": [],
   "source": [
    "class Node:\n",
    "    def __init__(self, pos: torch.Tensor, term: bool):\n",
    "        self.pos = pos\n",
    "        self.term = term\n",
    "        self.index = get(pos, term)\n",
    "        self.next = []\n",
    "        self.prev = []\n",
    "        self.chance = torch.tensor([])\n",
    "        self.flow_next = torch.tensor([])\n",
    "\n",
    "\n",
    "def get(pos: torch.Tensor, term: bool):\n",
    "    index = 0\n",
    "    for i in range(D - 1, -1, -1):\n",
    "        index += 2 * pos[i] * pow(H, D - i - 1)\n",
    "    index += term\n",
    "\n",
    "    return index.item()"
   ],
   "metadata": {
    "collapsed": false,
    "ExecuteTime": {
     "end_time": "2023-12-18T11:00:16.339327952Z",
     "start_time": "2023-12-18T11:00:16.336081440Z"
    }
   },
   "id": "67c33eac7da40521"
  },
  {
   "cell_type": "code",
   "execution_count": 4,
   "outputs": [],
   "source": [
    "def add_edge(v, u):\n",
    "    nodes[int(v)].next.append(int(u))\n",
    "    nodes[int(u)].prev.append(int(v))\n",
    "\n",
    "nodes = []\n",
    "coord_diap = [range(H) for _ in range(D)]\n",
    "for coords in product(*coord_diap):\n",
    "    nodes.append(Node(torch.tensor(coords), False))\n",
    "    nodes.append(Node(torch.tensor(coords), True))\n",
    "\n",
    "for coords in product(*coord_diap):\n",
    "    coord = torch.tensor(coords)\n",
    "    for d in range(D):\n",
    "        diff = torch.zeros(D)\n",
    "        diff[d] = 1\n",
    "        \n",
    "        if coords[d] + 1 < H:\n",
    "            add_edge(get(coord, False), get(coord + diff, False))\n",
    "    add_edge(get(coord, False), get(coord, True))\n",
    "    \n",
    "    nodes[get(coord, False)].chance = torch.zeros(len(nodes[get(coord, False)].next))\n",
    "    nodes[get(coord, False)].flow_next = torch.zeros(len(nodes[get(coord, False)].next))"
   ],
   "metadata": {
    "collapsed": false,
    "ExecuteTime": {
     "end_time": "2023-12-18T11:00:19.530055465Z",
     "start_time": "2023-12-18T11:00:17.374152426Z"
    }
   },
   "id": "51996865a4b3d64b"
  },
  {
   "cell_type": "code",
   "execution_count": 5,
   "outputs": [],
   "source": [
    "used = [0 for i in range(len(nodes))]\n",
    "topsort = []\n",
    "\n",
    "\n",
    "def dfs(v):\n",
    "    used[v] = True\n",
    "    for u in nodes[v].next:\n",
    "        if used[u]:\n",
    "            continue\n",
    "        dfs(u)\n",
    "\n",
    "    topsort.append(v)\n",
    "\n",
    "\n",
    "dfs(0)"
   ],
   "metadata": {
    "collapsed": false,
    "ExecuteTime": {
     "end_time": "2023-12-18T11:00:20.141181986Z",
     "start_time": "2023-12-18T11:00:20.138240620Z"
    }
   },
   "id": "30c239a8a34e88e2"
  },
  {
   "cell_type": "code",
   "execution_count": 6,
   "outputs": [],
   "source": [
    "flow = [0 for i in range(len(nodes))]\n",
    "\n",
    "for v in topsort:\n",
    "    if v == 0:\n",
    "        continue\n",
    "    if nodes[v].term:\n",
    "        flow[v] = get_reward(nodes[v].pos)\n",
    "        \n",
    "    pb = 1 / len(nodes[v].prev)\n",
    "\n",
    "    for u in nodes[v].prev:\n",
    "        flow[u] += flow[v] * pb\n",
    "        nodes[u].flow_next[nodes[u].next.index(v)] = flow[v] * pb\n",
    "\n",
    "for v in topsort:\n",
    "    if nodes[v].term:\n",
    "        continue\n",
    "\n",
    "    for i in range(len(nodes[v].next)):\n",
    "        nodes[v].chance[i] = nodes[v].flow_next[i] / flow[v]"
   ],
   "metadata": {
    "collapsed": false,
    "ExecuteTime": {
     "end_time": "2023-12-18T11:00:22.190019336Z",
     "start_time": "2023-12-18T11:00:21.316623841Z"
    }
   },
   "id": "c90fd7b591c22116"
  },
  {
   "cell_type": "code",
   "execution_count": 7,
   "outputs": [],
   "source": [
    "def sample():\n",
    "    v = 0\n",
    "    while not nodes[v].term:\n",
    "        next = Categorical(nodes[v].chance).sample()\n",
    "        v = nodes[v].next[next.item()]\n",
    "\n",
    "    return nodes[v].pos"
   ],
   "metadata": {
    "collapsed": false,
    "ExecuteTime": {
     "end_time": "2023-12-18T11:00:22.556881939Z",
     "start_time": "2023-12-18T11:00:22.552570575Z"
    }
   },
   "id": "c507370afe6ce312"
  },
  {
   "cell_type": "code",
   "execution_count": 11,
   "outputs": [
    {
     "name": "stdout",
     "output_type": "stream",
     "text": [
      "tensor(0.0805)\n"
     ]
    }
   ],
   "source": [
    "rewards = torch.zeros(*[H for i in range(D)])\n",
    "coord_diap = [range(H) for _ in range(D)]\n",
    "\n",
    "for coord in product(*coord_diap):\n",
    "    rewards[tuple(coord)] = get_reward(torch.tensor(coord))\n",
    "\n",
    "rewards /= rewards.sum()\n",
    "\n",
    "def loss(samples=1000):\n",
    "    counter = torch.zeros(*[H for i in range(D)])\n",
    "    for i in range(samples):\n",
    "        pos = sample()\n",
    "        counter[tuple(pos)] += 1\n",
    "\n",
    "    counter /= counter.sum()\n",
    "\n",
    "    return (rewards - counter).abs().sum()\n",
    "\n",
    "\n",
    "print(loss(400000))"
   ],
   "metadata": {
    "collapsed": false,
    "ExecuteTime": {
     "end_time": "2023-12-18T11:10:18.386744588Z",
     "start_time": "2023-12-18T11:04:50.687915418Z"
    }
   },
   "id": "485860a6b8fa4343"
  }
 ],
 "metadata": {
  "kernelspec": {
   "display_name": "Python 3",
   "language": "python",
   "name": "python3"
  },
  "language_info": {
   "codemirror_mode": {
    "name": "ipython",
    "version": 2
   },
   "file_extension": ".py",
   "mimetype": "text/x-python",
   "name": "python",
   "nbconvert_exporter": "python",
   "pygments_lexer": "ipython2",
   "version": "2.7.6"
  }
 },
 "nbformat": 4,
 "nbformat_minor": 5
}
