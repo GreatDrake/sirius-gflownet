{
 "cells": [
  {
   "cell_type": "code",
   "execution_count": 1,
   "metadata": {},
   "outputs": [
    {
     "name": "stdout",
     "output_type": "stream",
     "text": [
      "2.1.1+cpu\n"
     ]
    }
   ],
   "source": [
    "import torch\n",
    "print(torch.__version__)\n",
    "from math import log"
   ]
  },
  {
   "cell_type": "code",
   "execution_count": 2,
   "metadata": {},
   "outputs": [],
   "source": [
    "D = 4\n",
    "H = 8\n",
    "R0 = 0.1\n",
    "hidden_size = 100"
   ]
  },
  {
   "cell_type": "code",
   "execution_count": 3,
   "metadata": {},
   "outputs": [],
   "source": [
    "def right_state(state):\n",
    "    global H, D\n",
    "    res = []\n",
    "    for i in range(0, D):\n",
    "        for j in range(0, H):\n",
    "            res.append(float(0) + (state[i] == j))\n",
    "    return res"
   ]
  },
  {
   "cell_type": "code",
   "execution_count": 4,
   "metadata": {},
   "outputs": [],
   "source": [
    "def reward(x):\n",
    "    global R0, D, H\n",
    "    f1 = True\n",
    "    f2 = True\n",
    "    for d in range(D):\n",
    "        if not (0.25 < abs(x[d] / (H - 1) - 0.5) <= 0.5): f1 = False\n",
    "        if not (0.3 < abs(x[d] / (H - 1) - 0.5) < 0.4): f2 = False\n",
    "    return (R0 + 0.5 * f1 + 2 * f2)"
   ]
  },
  {
   "cell_type": "code",
   "execution_count": 5,
   "metadata": {},
   "outputs": [],
   "source": [
    "from collections import OrderedDict\n",
    "\n",
    "modelDB = torch.nn.Sequential(\n",
    "    OrderedDict([\n",
    "        (\"linear_1\", torch.nn.Linear(D * H, hidden_size)),\n",
    "        (\"activation_1\", torch.nn.ReLU()),\n",
    "        (\"linear_2\", torch.nn.Linear(hidden_size, D + 2))\n",
    "    ])\n",
    ")\n",
    "\n",
    "optimizerDB = torch.optim.SGD(\n",
    "    modelDB.parameters(),  # Передаём все тензоры, учавствующие в градиентном спуске\n",
    "    lr=0.01,  # learning rate - величина шага градиентного спуска\n",
    ")\n",
    "\n",
    "modelTB = torch.nn.Sequential(\n",
    "    OrderedDict([\n",
    "        (\"linear_1\", torch.nn.Linear(D * H, hidden_size)),\n",
    "        (\"activation_1\", torch.nn.ReLU()),\n",
    "        (\"linear_2\", torch.nn.Linear(hidden_size, D + 1))\n",
    "    ])\n",
    ")\n",
    "log_Z = torch.nn.Parameter(torch.tensor(0.0, requires_grad=True))\n",
    "log_Z_optimizer = torch.optim.Adam([log_Z], 0.01)\n",
    "\n",
    "optimizerTB = torch.optim.SGD(\n",
    "    modelTB.parameters(),  # Передаём все тензоры, учавствующие в градиентном спуске\n",
    "    lr=0.01,  # learning rate - величина шага градиентного спуска\n",
    ")"
   ]
  },
  {
   "cell_type": "code",
   "execution_count": 6,
   "metadata": {},
   "outputs": [],
   "source": [
    "def trajectory_balance():\n",
    "    global H, D, log_Z\n",
    "    state = [0] * D\n",
    "    way = []\n",
    "    while True:\n",
    "        pred = modelTB(torch.tensor(right_state(state)))\n",
    "        p_Fs = pred\n",
    "        p_B = 0\n",
    "        for i in range(0, D):\n",
    "            if state[i] == H - 1:\n",
    "                p_Fs[i] = -float(\"inf\")\n",
    "            if state[i] > 0:\n",
    "                p_B += 1\n",
    "        m = torch.nn.Softmax(dim=0)\n",
    "        p_Fs = m(p_Fs)\n",
    "        ind = torch.distributions.categorical.Categorical(p_Fs).sample()\n",
    "        p_B = max(p_B, 1)\n",
    "        way.append([torch.log(p_Fs[ind]), 1 / p_B])\n",
    "        if ind == D:\n",
    "            way.append([0, 1])\n",
    "            break\n",
    "        state[ind] += 1\n",
    "    loss = log_Z - log(reward(state))\n",
    "    for i in range(0, len(way) - 1):\n",
    "        loss += way[i][0] - log(way[i + 1][1])\n",
    "    loss = loss ** 2\n",
    "    return loss, state"
   ]
  },
  {
   "cell_type": "code",
   "execution_count": 7,
   "metadata": {},
   "outputs": [],
   "source": [
    "from itertools import product\n",
    "\n",
    "rewards = torch.zeros(*[H for i in range(D)])\n",
    "coord_diap = [range(H) for _ in range(D)]\n",
    "\n",
    "for coord in product(*coord_diap):\n",
    "    rewards[tuple(coord)] = reward(torch.tensor(coord))\n",
    "\n",
    "rewards /= rewards.sum()\n",
    "\n",
    "def metric(a, samples=1000):\n",
    "    counter = torch.zeros(*[H for i in range(D)])\n",
    "    for i in range(samples):\n",
    "        counter[tuple(a[i])] += 1\n",
    "\n",
    "    counter /= counter.sum()\n",
    "\n",
    "    return (rewards - counter).abs().sum()"
   ]
  },
  {
   "cell_type": "code",
   "execution_count": 8,
   "metadata": {},
   "outputs": [],
   "source": [
    "def right_state(state):\n",
    "    global H, D\n",
    "    res = []\n",
    "    for i in range(0, D):\n",
    "        for j in range(0, H):\n",
    "            res.append(float(0) + (state[i] == j))\n",
    "    return res"
   ]
  },
  {
   "cell_type": "code",
   "execution_count": 9,
   "metadata": {},
   "outputs": [],
   "source": [
    "def detailed_balance():\n",
    "    global H, D\n",
    "    state = [0] * D\n",
    "    way = []\n",
    "    while True:\n",
    "        pred = modelDB(torch.tensor(right_state(state)))\n",
    "        p_Fs = pred[0:-1]\n",
    "        F = pred[-1]\n",
    "        p_B = 0\n",
    "        for i in range(0, D):\n",
    "            if state[i] == H - 1:\n",
    "                p_Fs[i] = -float(\"inf\")\n",
    "            if state[i] > 0:\n",
    "                p_B += 1\n",
    "        m = torch.nn.Softmax(dim=0)\n",
    "        p_Fs = m(p_Fs)\n",
    "        ind = torch.distributions.categorical.Categorical(p_Fs).sample()\n",
    "        p_B = max(p_B, 1)\n",
    "        way.append([F, torch.log(p_Fs[ind]), 1 / p_B])\n",
    "        if ind == D:\n",
    "            break\n",
    "        state[ind] += 1\n",
    "    loss = 0\n",
    "    for i in range(0, len(way) - 1):\n",
    "        loss += (way[i][0] + way[i][1] - way[i+1][0] - log(way[i + 1][2])) ** 2\n",
    "    loss += (way[-1][0] + way[-1][1] - log(reward(state)) - log(1)) ** 2\n",
    "    return loss, state"
   ]
  },
  {
   "cell_type": "code",
   "execution_count": 10,
   "metadata": {},
   "outputs": [],
   "source": [
    "def calcDB(optimizer):\n",
    "    optimizer.zero_grad()\n",
    "    x = detailed_balance()\n",
    "    loss = x[0]\n",
    "    smpl = x[1]\n",
    "    loss.backward()\n",
    "    optimizer.step()\n",
    "    return smpl\n",
    "\n",
    "def calcTB(optimizer):\n",
    "    optimizer.zero_grad()\n",
    "    log_Z_optimizer.zero_grad()\n",
    "    x = trajectory_balance()\n",
    "    loss = x[0]\n",
    "    smpl = x[1]\n",
    "    loss.backward()\n",
    "    log_Z_optimizer.step()\n",
    "    optimizer.step()\n",
    "    return smpl\n",
    "    "
   ]
  },
  {
   "cell_type": "code",
   "execution_count": 11,
   "metadata": {},
   "outputs": [
    {
     "data": {
      "image/png": "[encoded data removed]",
      "text/plain": [
       "<Figure size 640x480 with 1 Axes>"
      ]
     },
     "metadata": {},
     "output_type": "display_data"
    },
    {
     "ename": "KeyboardInterrupt",
     "evalue": "",
     "output_type": "error",
     "traceback": [
      "\u001b[1;31m---------------------------------------------------------------------------\u001b[0m",
      "\u001b[1;31mKeyboardInterrupt\u001b[0m                         Traceback (most recent call last)",
      "Cell \u001b[1;32mIn[11], line 18\u001b[0m\n\u001b[0;32m     16\u001b[0m tb\u001b[38;5;241m.\u001b[39mappend(calcTB(optimizerTB))\n\u001b[0;32m     17\u001b[0m detailed_balance_mem\u001b[38;5;241m.\u001b[39mappend(metric(db[\u001b[38;5;241m-\u001b[39m\u001b[38;5;241m10000\u001b[39m:], \u001b[38;5;28mlen\u001b[39m(db[\u001b[38;5;241m-\u001b[39m\u001b[38;5;241m10000\u001b[39m:])))\n\u001b[1;32m---> 18\u001b[0m trajectory_balance_mem\u001b[38;5;241m.\u001b[39mappend(metric(tb[\u001b[38;5;241m-\u001b[39m\u001b[38;5;241m10000\u001b[39m:], \u001b[38;5;28mlen\u001b[39m(tb[\u001b[38;5;241m-\u001b[39m\u001b[38;5;241m10000\u001b[39m:])))\n\u001b[0;32m     19\u001b[0m \u001b[38;5;28;01mif\u001b[39;00m i \u001b[38;5;241m%\u001b[39m \u001b[38;5;241m200\u001b[39m \u001b[38;5;241m==\u001b[39m \u001b[38;5;241m0\u001b[39m:\n\u001b[0;32m     20\u001b[0m     clear_output(wait\u001b[38;5;241m=\u001b[39m\u001b[38;5;28;01mTrue\u001b[39;00m)\n",
      "Cell \u001b[1;32mIn[7], line 14\u001b[0m, in \u001b[0;36mmetric\u001b[1;34m(a, samples)\u001b[0m\n\u001b[0;32m     12\u001b[0m counter \u001b[38;5;241m=\u001b[39m torch\u001b[38;5;241m.\u001b[39mzeros(\u001b[38;5;241m*\u001b[39m[H \u001b[38;5;28;01mfor\u001b[39;00m i \u001b[38;5;129;01min\u001b[39;00m \u001b[38;5;28mrange\u001b[39m(D)])\n\u001b[0;32m     13\u001b[0m \u001b[38;5;28;01mfor\u001b[39;00m i \u001b[38;5;129;01min\u001b[39;00m \u001b[38;5;28mrange\u001b[39m(samples):\n\u001b[1;32m---> 14\u001b[0m     counter[\u001b[38;5;28mtuple\u001b[39m(a[i])] \u001b[38;5;241m+\u001b[39m\u001b[38;5;241m=\u001b[39m \u001b[38;5;241m1\u001b[39m\n\u001b[0;32m     16\u001b[0m counter \u001b[38;5;241m/\u001b[39m\u001b[38;5;241m=\u001b[39m counter\u001b[38;5;241m.\u001b[39msum()\n\u001b[0;32m     18\u001b[0m \u001b[38;5;28;01mreturn\u001b[39;00m (rewards \u001b[38;5;241m-\u001b[39m counter)\u001b[38;5;241m.\u001b[39mabs()\u001b[38;5;241m.\u001b[39msum()\n",
      "\u001b[1;31mKeyboardInterrupt\u001b[0m: "
     ]
    },
    {
     "data": {
      "text/plain": [
       "<Figure size 640x480 with 0 Axes>"
      ]
     },
     "metadata": {},
     "output_type": "display_data"
    }
   ],
   "source": [
    "import os\n",
    "from IPython.display import clear_output\n",
    "from matplotlib import pyplot as plt\n",
    "os.environ[\"KMP_DUPLICATE_LIB_OK\"]=\"TRUE\"\n",
    "\n",
    "db = []\n",
    "tb = []\n",
    "\n",
    "trajectory_balance_mem = []\n",
    "detailed_balance_mem = []\n",
    "\n",
    "plt.ion()\n",
    "\n",
    "for i in range(0, 20000):\n",
    "    db.append(calcDB(optimizerDB))\n",
    "    tb.append(calcTB(optimizerTB))\n",
    "    detailed_balance_mem.append(metric(db[-10000:], len(db[-10000:])))\n",
    "    trajectory_balance_mem.append(metric(tb[-10000:], len(tb[-10000:])))\n",
    "    if i % 200 == 0:\n",
    "        clear_output(wait=True)\n",
    "        plt.plot(trajectory_balance_mem)\n",
    "        plt.plot(detailed_balance_mem)\n",
    "        plt.legend(['TB', 'DB'])\n",
    "        plt.xlabel('iteraton')\n",
    "        plt.ylabel('metric')\n",
    "        plt.draw()\n",
    "        plt.pause(0.001)\n",
    "        plt.clf()"
   ]
  }
 ],
 "metadata": {
  "kernelspec": {
   "display_name": "Python 3",
   "language": "python",
   "name": "python3"
  },
  "language_info": {
   "codemirror_mode": {
    "name": "ipython",
    "version": 3
   },
   "file_extension": ".py",
   "mimetype": "text/x-python",
   "name": "python",
   "nbconvert_exporter": "python",
   "pygments_lexer": "ipython3",
   "version": "3.11.5"
  }
 },
 "nbformat": 4,
 "nbformat_minor": 2
}
