{
 "cells": [
  {
   "cell_type": "code",
   "execution_count": 276,
   "id": "8aa9474c-36c1-4899-91d0-2682362fedba",
   "metadata": {},
   "outputs": [],
   "source": [
    "import math"
   ]
  },
  {
   "cell_type": "code",
   "execution_count": 277,
   "id": "07c76602-8e5a-47aa-9eda-23641aeef621",
   "metadata": {
    "ExecuteTime": {
     "end_time": "2023-12-20T06:47:04.872764644Z",
     "start_time": "2023-12-20T06:47:04.125808497Z"
    }
   },
   "outputs": [
    {
     "name": "stdout",
     "output_type": "stream",
     "text": [
      "2.1.1+cpu\n"
     ]
    }
   ],
   "source": [
    "import torch\n",
    "from itertools import product\n",
    "print(torch.__version__)\n",
    "from math import log"
   ]
  },
  {
   "cell_type": "code",
   "execution_count": 278,
   "id": "f2a7f88d-e4e4-4fd1-af9c-54d04a33c1a6",
   "metadata": {
    "ExecuteTime": {
     "end_time": "2023-12-20T06:47:04.873055617Z",
     "start_time": "2023-12-20T06:47:04.866518775Z"
    }
   },
   "outputs": [],
   "source": [
    "D = 2\n",
    "H = 32\n",
    "R0 = 0.001\n",
    "op = 100000\n",
    "batch = 16\n",
    "hidden_size = 100\n",
    "lr = 0.001\n",
    "lr_Z = 0.01"
   ]
  },
  {
   "cell_type": "code",
   "execution_count": 279,
   "id": "99ea75a3-67a2-403d-b611-a531238b4e34",
   "metadata": {
    "ExecuteTime": {
     "end_time": "2023-12-20T06:47:04.881118881Z",
     "start_time": "2023-12-20T06:47:04.869624648Z"
    }
   },
   "outputs": [],
   "source": [
    "def transfer(state):\n",
    "    global H, D, batch\n",
    "    res = [[float(0)] * H * D for i in range(batch)]\n",
    "    for k in range(0, batch):\n",
    "        for i in range(0, D):\n",
    "            res[k][state[k][i] + i * H] = float(1)\n",
    "    return res\n",
    "\n",
    "rewmatrix = [[0,0,0,0,0,0,0,0,0,0,0,0,0,0,0,0,0,255,255,255,255,255,255,255,255,255,255,255,255,255,255,0,],\n",
    "[0,0,0,0,0,0,0,0,0,0,0,0,0,0,0,0,255,255,227,227,227,227,227,227,227,227,227,227,227,227,255,255,],\n",
    "[0,0,0,0,0,0,0,0,0,0,0,0,0,0,0,0,255,227,227,227,227,227,227,227,227,227,227,227,227,227,227,255,],\n",
    "[0,0,0,0,0,0,0,0,0,0,0,0,0,0,0,0,255,227,227,227,227,227,227,227,227,227,227,227,227,227,227,255,],\n",
    "[0,0,0,0,0,0,0,0,0,0,0,0,0,0,0,0,255,227,153,153,153,153,153,153,153,153,153,153,153,153,227,255,],\n",
    "[0,0,0,0,0,0,0,0,0,0,0,0,0,0,0,0,255,227,153,153,153,153,153,153,153,153,153,153,153,153,227,255,],\n",
    "[0,0,0,0,0,0,0,0,0,0,0,0,0,0,0,0,255,227,153,153,153,153,153,153,153,153,153,153,153,153,227,255,],\n",
    "[0,0,0,0,0,0,0,0,0,0,0,0,0,0,0,0,255,227,153,153,153,153,153,153,153,153,153,153,153,153,227,255,],\n",
    "[0,0,0,0,0,0,0,0,0,0,0,0,0,0,0,0,255,227,227,227,227,227,227,227,227,227,227,227,227,227,227,255,],\n",
    "[0,0,0,0,0,0,0,0,0,0,0,0,0,0,0,0,255,227,227,227,227,227,227,227,227,227,227,227,227,227,227,255,],\n",
    "[0,0,0,0,0,0,0,0,0,0,0,0,0,0,0,0,255,227,227,227,227,227,227,227,227,227,227,227,227,227,227,255,],\n",
    "[0,0,0,0,0,0,0,0,0,0,0,0,0,0,0,0,255,227,227,227,227,227,227,227,227,227,227,227,227,227,227,255,],\n",
    "[0,0,0,0,0,0,0,0,0,0,0,0,0,0,0,0,255,227,227,227,227,227,227,227,227,227,227,227,227,227,227,255,],\n",
    "[0,0,0,0,0,0,0,0,0,0,0,0,0,0,0,0,255,227,227,227,227,227,227,227,227,227,227,227,227,227,227,255,],\n",
    "[0,0,0,0,0,0,0,0,0,0,0,0,0,0,0,0,255,227,227,227,227,227,227,227,227,227,227,227,227,227,227,255,],\n",
    "[0,0,0,0,0,0,0,0,0,0,0,0,0,0,0,0,255,227,227,227,227,227,227,227,227,227,227,227,227,227,227,255,],\n",
    "[0,0,0,0,0,0,0,0,0,0,0,0,0,0,0,0,255,227,227,227,227,227,227,227,227,227,227,227,227,227,227,255,],\n",
    "[0,0,0,0,0,0,0,0,0,0,0,0,0,0,0,0,255,227,227,227,227,227,227,227,227,227,227,227,227,227,227,255,],\n",
    "[0,0,0,0,0,0,0,0,0,0,0,0,0,0,0,0,255,227,227,227,227,227,255,255,255,255,227,227,227,227,227,255,],\n",
    "[0,0,0,0,0,0,0,0,0,0,0,0,0,0,0,255,255,227,227,227,227,255,255,0,0,255,227,227,227,227,227,255,],\n",
    "[0,0,0,0,0,0,0,0,0,0,0,0,0,0,0,255,227,227,227,227,227,255,0,0,0,255,227,227,227,227,227,255,],\n",
    "[0,0,0,0,0,0,0,0,0,0,0,0,0,255,255,255,227,227,227,227,255,255,0,0,0,255,227,227,227,227,227,255,],\n",
    "[0,0,0,0,0,0,0,0,0,0,255,255,255,255,227,227,227,227,227,255,255,0,0,0,0,255,227,227,227,227,227,255,],\n",
    "[0,0,0,0,0,0,0,0,0,0,255,227,227,227,227,227,227,227,255,255,0,0,0,0,255,255,227,227,227,227,227,255,],\n",
    "[0,0,0,0,0,0,0,0,0,0,255,227,227,227,227,227,227,255,255,0,0,0,0,255,255,227,227,227,227,227,227,255,],\n",
    "[0,0,0,0,0,0,0,0,0,0,255,227,227,227,227,227,255,255,0,0,0,0,0,255,227,227,227,227,227,227,227,255,],\n",
    "[0,0,0,0,0,0,0,0,0,0,255,255,255,255,255,255,255,0,0,0,0,0,0,255,227,227,227,227,227,227,227,255,],\n",
    "[0,0,0,0,0,0,0,0,0,0,0,0,0,0,0,0,0,0,0,0,0,0,0,255,255,255,255,255,255,255,255,255,],\n",
    "[0,0,0,0,0,0,0,0,0,0,0,0,0,0,0,0,0,0,0,0,0,0,0,0,0,0,0,0,0,0,0,0,],\n",
    "[0,0,0,0,0,0,0,0,0,0,0,0,0,0,0,0,0,0,0,0,0,0,0,0,0,0,0,0,0,0,0,0,],\n",
    "[0,0,0,0,0,0,0,0,0,0,0,0,0,0,0,0,0,0,0,0,0,0,0,0,0,0,0,0,0,0,0,0,],\n",
    "[0,0,0,0,0,0,0,0,0,0,0,0,0,0,0,0,0,0,0,0,0,0,0,0,0,0,0,0,0,0,0,0,]]\n",
    "\n",
    "\n",
    "def reward(x):\n",
    "    global R0, D, H\n",
    "    return R0 + rewmatrix[x[0]][x[1]] * 1000"
   ]
  },
  {
   "cell_type": "code",
   "execution_count": 280,
   "id": "720e19e3-a941-4814-817a-ceddaa048934",
   "metadata": {
    "ExecuteTime": {
     "end_time": "2023-12-20T06:47:05.684647964Z",
     "start_time": "2023-12-20T06:47:05.500266740Z"
    }
   },
   "outputs": [],
   "source": [
    "model_DB = torch.nn.Sequential(\n",
    "    OrderedDict([\n",
    "        (\"linear_1\", torch.nn.Linear(D * H, hidden_size)),\n",
    "        (\"activation_1\", torch.nn.ReLU()),\n",
    "        (\"linear_2\", torch.nn.Linear(hidden_size, D + 2))\n",
    "    ])\n",
    ")\n",
    "optimizer_DB = torch.optim.Adam(\n",
    "    model_DB.parameters(),\n",
    "    lr=lr\n",
    ")\n",
    "\n",
    "\n",
    "def loss_fn_DB():\n",
    "    global H, D, batch\n",
    "    used = [0] * batch\n",
    "    states = [[0] * D for i in range(batch)]\n",
    "    ways = [[] for i in range(batch)]\n",
    "    while True:\n",
    "        pred = model_DB(torch.tensor(transfer(states)))\n",
    "        p_Fs = pred[:, 0: -1]\n",
    "        Fs = pred[:, -1]\n",
    "        end = True\n",
    "        for j in range(0, batch):\n",
    "            if used[j]:\n",
    "                continue\n",
    "            end = False\n",
    "            for i in range(0, D):\n",
    "                if states[j][i] == H - 1:\n",
    "                    p_Fs[j][i] = -float(\"inf\")\n",
    "        if end:\n",
    "            break\n",
    "        m = torch.nn.Softmax(dim=1)\n",
    "        p_Fs = m(p_Fs)\n",
    "        while True:\n",
    "            ind = torch.distributions.categorical.Categorical(p_Fs).sample()\n",
    "            iscorrect = True\n",
    "            for j in range(0, batch):\n",
    "                if used[j] or ind[j] == D:\n",
    "                    continue\n",
    "                if states[j][ind[j]] == H - 1:\n",
    "                    iscorrect = False\n",
    "            if iscorrect == False:\n",
    "                continue\n",
    "            for j in range(0, batch):\n",
    "                if used[j]:\n",
    "                    continue\n",
    "                p_B = 0\n",
    "                for i in range(0, D):\n",
    "                    if states[j][i] >= 1:\n",
    "                        p_B += 1\n",
    "                p_B = max(p_B, 1)\n",
    "                ways[j].append([Fs[j], torch.log(p_Fs[j][ind[j]]), log(1 / p_B)])\n",
    "                if ind[j] == D:\n",
    "                    ways[j].append([log(reward(states[j])), 0, 0])\n",
    "                    used[j] = True\n",
    "                else:\n",
    "                    assert (states[j][ind[j]] != H - 1)\n",
    "                    states[j][ind[j]] += 1\n",
    "            break\n",
    "    loss = 0\n",
    "    for j in range(batch):\n",
    "        for i in range(0, len(ways[j]) - 1):\n",
    "            loss += (ways[j][i][0] + ways[j][i][1] - ways[j][i + 1][0] - ways[j][i + 1][2]) ** 2\n",
    "    loss /= batch\n",
    "    return loss, states"
   ]
  },
  {
   "cell_type": "code",
   "execution_count": 281,
   "id": "274ee5e7-ac57-4875-a067-fdf4f52120c3",
   "metadata": {},
   "outputs": [],
   "source": [
    "rewards = torch.zeros(*[H for i in range(D)])\n",
    "coord_diap = [range(H) for _ in range(D)]\n",
    "\n",
    "for coord in product(*coord_diap):\n",
    "    rewards[tuple(coord)] = reward(torch.tensor(coord))\n",
    "\n",
    "rewards /= rewards.sum()\n",
    "\n",
    "\n",
    "def empirical_loss(a, samples=10000):\n",
    "    counter = torch.zeros(*[H for i in range(D)])\n",
    "    for i in range(samples):\n",
    "        counter[tuple(a[i])] += 1\n",
    "\n",
    "    counter /= counter.sum()\n",
    "\n",
    "    return (rewards - counter).abs().sum()"
   ]
  },
  {
   "cell_type": "code",
   "execution_count": 282,
   "id": "a777de7d-425c-4c97-987d-e98a4504332a",
   "metadata": {},
   "outputs": [],
   "source": [
    "last=0\n",
    "a = []"
   ]
  },
  {
   "cell_type": "code",
   "execution_count": 283,
   "id": "5a94e5f5-8e93-44fe-b7cb-6f699339af81",
   "metadata": {
    "ExecuteTime": {
     "end_time": "2023-12-20T07:00:48.045856672Z",
     "start_time": "2023-12-20T06:56:45.783941058Z"
    },
    "scrolled": true
   },
   "outputs": [
    {
     "name": "stdout",
     "output_type": "stream",
     "text": [
      "0\n",
      "DB: tensor(2.)\n",
      "1600\n",
      "DB: tensor(1.8526)\n",
      "3200\n",
      "DB: tensor(1.6843)\n"
     ]
    },
    {
     "ename": "KeyboardInterrupt",
     "evalue": "",
     "output_type": "error",
     "traceback": [
      "\u001b[0;31m---------------------------------------------------------------------------\u001b[0m",
      "\u001b[0;31mKeyboardInterrupt\u001b[0m                         Traceback (most recent call last)",
      "Cell \u001b[0;32mIn[283], line 7\u001b[0m\n\u001b[1;32m      5\u001b[0m \u001b[38;5;28;01mfor\u001b[39;00m j \u001b[38;5;129;01min\u001b[39;00m x[\u001b[38;5;241m1\u001b[39m]:\n\u001b[1;32m      6\u001b[0m     a\u001b[38;5;241m.\u001b[39mappend(j)\n\u001b[0;32m----> 7\u001b[0m \u001b[43mloss_DB\u001b[49m\u001b[38;5;241;43m.\u001b[39;49m\u001b[43mbackward\u001b[49m\u001b[43m(\u001b[49m\u001b[43m)\u001b[49m\n\u001b[1;32m      8\u001b[0m optimizer_DB\u001b[38;5;241m.\u001b[39mstep()\n\u001b[1;32m      9\u001b[0m \u001b[38;5;28;01mif\u001b[39;00m i \u001b[38;5;241m%\u001b[39m \u001b[38;5;241m100\u001b[39m \u001b[38;5;241m==\u001b[39m \u001b[38;5;241m0\u001b[39m:\n",
      "File \u001b[0;32m~/.config/jupyterlab-desktop/jlab_server/lib/python3.8/site-packages/torch/_tensor.py:492\u001b[0m, in \u001b[0;36mTensor.backward\u001b[0;34m(self, gradient, retain_graph, create_graph, inputs)\u001b[0m\n\u001b[1;32m    482\u001b[0m \u001b[38;5;28;01mif\u001b[39;00m has_torch_function_unary(\u001b[38;5;28mself\u001b[39m):\n\u001b[1;32m    483\u001b[0m     \u001b[38;5;28;01mreturn\u001b[39;00m handle_torch_function(\n\u001b[1;32m    484\u001b[0m         Tensor\u001b[38;5;241m.\u001b[39mbackward,\n\u001b[1;32m    485\u001b[0m         (\u001b[38;5;28mself\u001b[39m,),\n\u001b[0;32m   (...)\u001b[0m\n\u001b[1;32m    490\u001b[0m         inputs\u001b[38;5;241m=\u001b[39minputs,\n\u001b[1;32m    491\u001b[0m     )\n\u001b[0;32m--> 492\u001b[0m \u001b[43mtorch\u001b[49m\u001b[38;5;241;43m.\u001b[39;49m\u001b[43mautograd\u001b[49m\u001b[38;5;241;43m.\u001b[39;49m\u001b[43mbackward\u001b[49m\u001b[43m(\u001b[49m\n\u001b[1;32m    493\u001b[0m \u001b[43m    \u001b[49m\u001b[38;5;28;43mself\u001b[39;49m\u001b[43m,\u001b[49m\u001b[43m \u001b[49m\u001b[43mgradient\u001b[49m\u001b[43m,\u001b[49m\u001b[43m \u001b[49m\u001b[43mretain_graph\u001b[49m\u001b[43m,\u001b[49m\u001b[43m \u001b[49m\u001b[43mcreate_graph\u001b[49m\u001b[43m,\u001b[49m\u001b[43m \u001b[49m\u001b[43minputs\u001b[49m\u001b[38;5;241;43m=\u001b[39;49m\u001b[43minputs\u001b[49m\n\u001b[1;32m    494\u001b[0m \u001b[43m\u001b[49m\u001b[43m)\u001b[49m\n",
      "File \u001b[0;32m~/.config/jupyterlab-desktop/jlab_server/lib/python3.8/site-packages/torch/autograd/__init__.py:251\u001b[0m, in \u001b[0;36mbackward\u001b[0;34m(tensors, grad_tensors, retain_graph, create_graph, grad_variables, inputs)\u001b[0m\n\u001b[1;32m    246\u001b[0m     retain_graph \u001b[38;5;241m=\u001b[39m create_graph\n\u001b[1;32m    248\u001b[0m \u001b[38;5;66;03m# The reason we repeat the same comment below is that\u001b[39;00m\n\u001b[1;32m    249\u001b[0m \u001b[38;5;66;03m# some Python versions print out the first line of a multi-line function\u001b[39;00m\n\u001b[1;32m    250\u001b[0m \u001b[38;5;66;03m# calls in the traceback and some print out the last line\u001b[39;00m\n\u001b[0;32m--> 251\u001b[0m \u001b[43mVariable\u001b[49m\u001b[38;5;241;43m.\u001b[39;49m\u001b[43m_execution_engine\u001b[49m\u001b[38;5;241;43m.\u001b[39;49m\u001b[43mrun_backward\u001b[49m\u001b[43m(\u001b[49m\u001b[43m  \u001b[49m\u001b[38;5;66;43;03m# Calls into the C++ engine to run the backward pass\u001b[39;49;00m\n\u001b[1;32m    252\u001b[0m \u001b[43m    \u001b[49m\u001b[43mtensors\u001b[49m\u001b[43m,\u001b[49m\n\u001b[1;32m    253\u001b[0m \u001b[43m    \u001b[49m\u001b[43mgrad_tensors_\u001b[49m\u001b[43m,\u001b[49m\n\u001b[1;32m    254\u001b[0m \u001b[43m    \u001b[49m\u001b[43mretain_graph\u001b[49m\u001b[43m,\u001b[49m\n\u001b[1;32m    255\u001b[0m \u001b[43m    \u001b[49m\u001b[43mcreate_graph\u001b[49m\u001b[43m,\u001b[49m\n\u001b[1;32m    256\u001b[0m \u001b[43m    \u001b[49m\u001b[43minputs\u001b[49m\u001b[43m,\u001b[49m\n\u001b[1;32m    257\u001b[0m \u001b[43m    \u001b[49m\u001b[43mallow_unreachable\u001b[49m\u001b[38;5;241;43m=\u001b[39;49m\u001b[38;5;28;43;01mTrue\u001b[39;49;00m\u001b[43m,\u001b[49m\n\u001b[1;32m    258\u001b[0m \u001b[43m    \u001b[49m\u001b[43maccumulate_grad\u001b[49m\u001b[38;5;241;43m=\u001b[39;49m\u001b[38;5;28;43;01mTrue\u001b[39;49;00m\u001b[43m,\u001b[49m\n\u001b[1;32m    259\u001b[0m \u001b[43m\u001b[49m\u001b[43m)\u001b[49m\n",
      "\u001b[0;31mKeyboardInterrupt\u001b[0m: "
     ]
    }
   ],
   "source": [
    "for i in range(last, op):\n",
    "    optimizer_DB.zero_grad()\n",
    "    x = loss_fn_DB()\n",
    "    loss_DB = x[0]\n",
    "    for j in x[1]:\n",
    "        a.append(j)\n",
    "    loss_DB.backward()\n",
    "    optimizer_DB.step()\n",
    "    if i % 100 == 0:\n",
    "        last = i\n",
    "        print(i * batch)\n",
    "        print(end=\"DB: \")\n",
    "        print(empirical_loss(a[-10000:], len(a[-10000:])))"
   ]
  },
  {
   "cell_type": "code",
   "execution_count": 272,
   "id": "5ab8bb4d-dbaa-4b88-9ace-e74f7ec892fa",
   "metadata": {
    "ExecuteTime": {
     "end_time": "2023-12-20T08:21:56.772256987Z",
     "start_time": "2023-12-20T08:21:56.721481954Z"
    },
    "collapsed": false,
    "jupyter": {
     "outputs_hidden": false
    }
   },
   "outputs": [
    {
     "name": "stdout",
     "output_type": "stream",
     "text": [
      "357280\n"
     ]
    }
   ],
   "source": [
    "## %matplotlib inline\n",
    "\n",
    "sz = (len(a))\n",
    "print(sz)\n",
    "import numpy as np\n",
    "import time\n",
    "from mpl_toolkits.mplot3d import Axes3D\n",
    "import matplotlib.pyplot as plt\n",
    "from scipy.interpolate import Rbf\n",
    "\n",
    "def visualise(start, step, size):\n",
    "    counter = [[0 for i in range(H)] for j in range(H)]\n",
    "    for st in range(start//step, len(a)//step):\n",
    "        for point in a[max(0, (st+1)*step-size):(st+1)*step]:\n",
    "            counter[point[0]][point[1]] += 1\n",
    "        summ = sum([sum(i) for i in counter])\n",
    "        for i in range(H):\n",
    "            for j in range(H):\n",
    "                counter[i][j] /= summ\n",
    "                \n",
    "        x = []\n",
    "        y = []\n",
    "        z = []\n",
    "        arr = np.zeros((H, H))\n",
    "        for i in range(H):\n",
    "            for j in range(H):\n",
    "                x.append(i), y.append(j), z.append(np.exp(counter[i][j])**100)\n",
    "        \n",
    "        rbf = Rbf(x, y, z, function=\"gaussian\")\n",
    "        \n",
    "        x_new = np.linspace(-1, H, 200)\n",
    "        y_new = np.linspace(-1, H, 200)\n",
    "        \n",
    "        x_grid, y_grid = np.meshgrid(x_new, y_new)\n",
    "        z_new = rbf(x_grid.ravel(), y_grid.ravel()).reshape(x_grid.shape)\n",
    "        \n",
    "        plt.pcolor(x_new, y_new, z_new)\n",
    "        plt.xlabel(\"x\")\n",
    "        plt.ylabel(\"y\")\n",
    "        plt.title(\"RBF Gaussian interpolation\")\n",
    "        plt.savefig(f\"./render/vis{st}.png\")\n",
    "        print(f\"saved {st} frame\")"
   ]
  },
  {
   "cell_type": "code",
   "execution_count": 275,
   "id": "99f4cfc3edd3b227",
   "metadata": {
    "ExecuteTime": {
     "end_time": "2023-12-20T08:22:09.654126166Z",
     "start_time": "2023-12-20T08:22:04.387582248Z"
    },
    "collapsed": false,
    "jupyter": {
     "outputs_hidden": false
    }
   },
   "outputs": [
    {
     "name": "stdout",
     "output_type": "stream",
     "text": [
      "saved 711 frame\n",
      "saved 712 frame\n",
      "saved 713 frame\n",
      "saved 714 frame\n",
      "saved 715 frame\n",
      "saved 716 frame\n",
      "saved 717 frame\n",
      "saved 718 frame\n",
      "saved 719 frame\n",
      "saved 720 frame\n"
     ]
    },
    {
     "ename": "KeyboardInterrupt",
     "evalue": "",
     "output_type": "error",
     "traceback": [
      "\u001b[0;31m---------------------------------------------------------------------------\u001b[0m",
      "\u001b[0;31mKeyboardInterrupt\u001b[0m                         Traceback (most recent call last)",
      "Cell \u001b[0;32mIn[275], line 1\u001b[0m\n\u001b[0;32m----> 1\u001b[0m \u001b[43mvisualise\u001b[49m\u001b[43m(\u001b[49m\u001b[43msz\u001b[49m\u001b[38;5;241;43m-\u001b[39;49m\u001b[38;5;241;43m1500\u001b[39;49m\u001b[43m,\u001b[49m\u001b[43m \u001b[49m\u001b[38;5;241;43m500\u001b[39;49m\u001b[43m,\u001b[49m\u001b[43m \u001b[49m\u001b[38;5;241;43m10000\u001b[39;49m\u001b[43m)\u001b[49m\n",
      "Cell \u001b[0;32mIn[272], line 35\u001b[0m, in \u001b[0;36mvisualise\u001b[0;34m(start, step, size)\u001b[0m\n\u001b[1;32m     32\u001b[0m y_new \u001b[38;5;241m=\u001b[39m np\u001b[38;5;241m.\u001b[39mlinspace(\u001b[38;5;241m-\u001b[39m\u001b[38;5;241m1\u001b[39m, H, \u001b[38;5;241m200\u001b[39m)\n\u001b[1;32m     34\u001b[0m x_grid, y_grid \u001b[38;5;241m=\u001b[39m np\u001b[38;5;241m.\u001b[39mmeshgrid(x_new, y_new)\n\u001b[0;32m---> 35\u001b[0m z_new \u001b[38;5;241m=\u001b[39m \u001b[43mrbf\u001b[49m\u001b[43m(\u001b[49m\u001b[43mx_grid\u001b[49m\u001b[38;5;241;43m.\u001b[39;49m\u001b[43mravel\u001b[49m\u001b[43m(\u001b[49m\u001b[43m)\u001b[49m\u001b[43m,\u001b[49m\u001b[43m \u001b[49m\u001b[43my_grid\u001b[49m\u001b[38;5;241;43m.\u001b[39;49m\u001b[43mravel\u001b[49m\u001b[43m(\u001b[49m\u001b[43m)\u001b[49m\u001b[43m)\u001b[49m\u001b[38;5;241m.\u001b[39mreshape(x_grid\u001b[38;5;241m.\u001b[39mshape)\n\u001b[1;32m     37\u001b[0m plt\u001b[38;5;241m.\u001b[39mpcolor(x_new, y_new, z_new)\n\u001b[1;32m     38\u001b[0m plt\u001b[38;5;241m.\u001b[39mxlabel(\u001b[38;5;124m\"\u001b[39m\u001b[38;5;124mx\u001b[39m\u001b[38;5;124m\"\u001b[39m)\n",
      "File \u001b[0;32m~/.config/jupyterlab-desktop/jlab_server/lib/python3.8/site-packages/scipy/interpolate/_rbf.py:289\u001b[0m, in \u001b[0;36mRbf.__call__\u001b[0;34m(self, *args)\u001b[0m\n\u001b[1;32m    287\u001b[0m xa \u001b[38;5;241m=\u001b[39m np\u001b[38;5;241m.\u001b[39masarray([a\u001b[38;5;241m.\u001b[39mflatten() \u001b[38;5;28;01mfor\u001b[39;00m a \u001b[38;5;129;01min\u001b[39;00m args], dtype\u001b[38;5;241m=\u001b[39mnp\u001b[38;5;241m.\u001b[39mfloat_)\n\u001b[1;32m    288\u001b[0m r \u001b[38;5;241m=\u001b[39m \u001b[38;5;28mself\u001b[39m\u001b[38;5;241m.\u001b[39m_call_norm(xa, \u001b[38;5;28mself\u001b[39m\u001b[38;5;241m.\u001b[39mxi)\n\u001b[0;32m--> 289\u001b[0m \u001b[38;5;28;01mreturn\u001b[39;00m np\u001b[38;5;241m.\u001b[39mdot(\u001b[38;5;28;43mself\u001b[39;49m\u001b[38;5;241;43m.\u001b[39;49m\u001b[43m_function\u001b[49m\u001b[43m(\u001b[49m\u001b[43mr\u001b[49m\u001b[43m)\u001b[49m, \u001b[38;5;28mself\u001b[39m\u001b[38;5;241m.\u001b[39mnodes)\u001b[38;5;241m.\u001b[39mreshape(shp)\n",
      "File \u001b[0;32m~/.config/jupyterlab-desktop/jlab_server/lib/python3.8/site-packages/scipy/interpolate/_rbf.py:157\u001b[0m, in \u001b[0;36mRbf._h_gaussian\u001b[0;34m(self, r)\u001b[0m\n\u001b[1;32m    156\u001b[0m \u001b[38;5;28;01mdef\u001b[39;00m \u001b[38;5;21m_h_gaussian\u001b[39m(\u001b[38;5;28mself\u001b[39m, r):\n\u001b[0;32m--> 157\u001b[0m     \u001b[38;5;28;01mreturn\u001b[39;00m \u001b[43mnp\u001b[49m\u001b[38;5;241;43m.\u001b[39;49m\u001b[43mexp\u001b[49m\u001b[43m(\u001b[49m\u001b[38;5;241;43m-\u001b[39;49m\u001b[43m(\u001b[49m\u001b[38;5;241;43m1.0\u001b[39;49m\u001b[38;5;241;43m/\u001b[39;49m\u001b[38;5;28;43mself\u001b[39;49m\u001b[38;5;241;43m.\u001b[39;49m\u001b[43mepsilon\u001b[49m\u001b[38;5;241;43m*\u001b[39;49m\u001b[43mr\u001b[49m\u001b[43m)\u001b[49m\u001b[38;5;241;43m*\u001b[39;49m\u001b[38;5;241;43m*\u001b[39;49m\u001b[38;5;241;43m2\u001b[39;49m\u001b[43m)\u001b[49m\n",
      "\u001b[0;31mKeyboardInterrupt\u001b[0m: "
     ]
    },
    {
     "data": {
      "image/png": "[encoded data removed]",
      "text/plain": [
       "<Figure size 640x480 with 1 Axes>"
      ]
     },
     "metadata": {},
     "output_type": "display_data"
    }
   ],
   "source": [
    "visualise(sz-1500, 500, 10000)"
   ]
  },
  {
   "cell_type": "code",
   "execution_count": null,
   "id": "9fc07654a6c9c2a1",
   "metadata": {
    "collapsed": false,
    "jupyter": {
     "outputs_hidden": false
    }
   },
   "outputs": [],
   "source": []
  }
 ],
 "metadata": {
  "kernelspec": {
   "display_name": "Python 3 (ipykernel)",
   "language": "python",
   "name": "python3"
  },
  "language_info": {
   "codemirror_mode": {
    "name": "ipython",
    "version": 3
   },
   "file_extension": ".py",
   "mimetype": "text/x-python",
   "name": "python",
   "nbconvert_exporter": "python",
   "pygments_lexer": "ipython3",
   "version": "3.8.18"
  }
 },
 "nbformat": 4,
 "nbformat_minor": 5
}
