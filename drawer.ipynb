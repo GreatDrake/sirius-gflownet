{
 "cells": [
  {
   "cell_type": "code",
   "execution_count": 1,
   "id": "07c76602-8e5a-47aa-9eda-23641aeef621",
   "metadata": {
    "ExecuteTime": {
     "end_time": "2023-12-22T08:43:46.969472778Z",
     "start_time": "2023-12-22T08:43:45.927474957Z"
    }
   },
   "outputs": [],
   "source": [
    "import torch\n",
    "import math\n",
    "from itertools import product\n",
    "from math import log"
   ]
  },
  {
   "cell_type": "code",
   "execution_count": 2,
   "id": "f2a7f88d-e4e4-4fd1-af9c-54d04a33c1a6",
   "metadata": {
    "ExecuteTime": {
     "end_time": "2023-12-22T08:43:50.764743137Z",
     "start_time": "2023-12-22T08:43:50.743582801Z"
    }
   },
   "outputs": [],
   "source": [
    "D = 2\n",
    "H = 8\n",
    "R0 = 0.001\n",
    "op = 10000\n",
    "batch = 16\n",
    "hidden_size = 100\n",
    "lr = 0.001\n",
    "lr_Z = 0.01"
   ]
  },
  {
   "cell_type": "code",
   "execution_count": 3,
   "id": "99ea75a3-67a2-403d-b611-a531238b4e34",
   "metadata": {
    "ExecuteTime": {
     "end_time": "2023-12-22T08:43:56.282104152Z",
     "start_time": "2023-12-22T08:43:56.276945024Z"
    }
   },
   "outputs": [],
   "source": [
    "def transfer(state):\n",
    "    global H, D, batch\n",
    "    res = [[float(0)] * H * D for i in range(batch)]\n",
    "    for k in range(0, batch):\n",
    "        for i in range(0, D):\n",
    "            res[k][state[k][i] + i * H] = float(1)\n",
    "    return res\n",
    "\n",
    "rewmatrix = [\n",
    "    [0, 0, 0, 1, 1, 1, 0, 0, 0],\n",
    "    [0, 0, 1, 0, 0, 0, 0, 0, 0],\n",
    "    [0, 0, 1, 0, 1, 0, 0, 0, 0],\n",
    "    [0, 0, 1, 0, 0, 0, 0, 0, 0],\n",
    "    [0, 0, 0, 1, 1, 0, 0, 0, 0],\n",
    "    [0, 0, 0, 0, 0, 1, 0, 0, 0],\n",
    "    [0, 0, 0, 0, 0, 1, 0, 0, 0],\n",
    "    [0, 0, 0, 0, 0, 1, 0, 0, 0],\n",
    "    [0, 0, 1, 1, 1, 0, 0, 0, 0],\n",
    "]\n",
    "\n",
    "\n",
    "def reward(x):\n",
    "    global R0, D, H\n",
    "    return R0 + rewmatrix[H - x[1] - 1][x[0]] * 50"
   ]
  },
  {
   "cell_type": "code",
   "execution_count": 4,
   "id": "720e19e3-a941-4814-817a-ceddaa048934",
   "metadata": {
    "ExecuteTime": {
     "end_time": "2023-12-22T08:43:58.078467234Z",
     "start_time": "2023-12-22T08:43:57.839838367Z"
    }
   },
   "outputs": [],
   "source": [
    "from collections import OrderedDict\n",
    "\n",
    "model_DB = torch.nn.Sequential(\n",
    "    OrderedDict([\n",
    "        (\"linear_1\", torch.nn.Linear(D * H, hidden_size)),\n",
    "        (\"activation_1\", torch.nn.ReLU()),\n",
    "        (\"linear_2\", torch.nn.Linear(hidden_size, D + 2))\n",
    "    ])\n",
    ")\n",
    "optimizer_DB = torch.optim.Adam(\n",
    "    model_DB.parameters(),\n",
    "    lr=lr\n",
    ")\n",
    "\n",
    "\n",
    "def loss_fn_DB():\n",
    "    global H, D, batch\n",
    "    used = [0] * batch\n",
    "    states = [[0] * D for i in range(batch)]\n",
    "    ways = [[] for i in range(batch)]\n",
    "    while True:\n",
    "        pred = model_DB(torch.tensor(transfer(states)))\n",
    "        p_Fs = pred[:, 0: -1]\n",
    "        Fs = pred[:, -1]\n",
    "        end = True\n",
    "        for j in range(0, batch):\n",
    "            if used[j]:\n",
    "                continue\n",
    "            end = False\n",
    "            for i in range(0, D):\n",
    "                if states[j][i] == H - 1:\n",
    "                    p_Fs[j][i] = -float(\"inf\")\n",
    "        if end:\n",
    "            break\n",
    "        m = torch.nn.Softmax(dim=1)\n",
    "        p_Fs = m(p_Fs)\n",
    "        while True:\n",
    "            ind = torch.distributions.categorical.Categorical(p_Fs).sample()\n",
    "            iscorrect = True\n",
    "            for j in range(0, batch):\n",
    "                if used[j] or ind[j] == D:\n",
    "                    continue\n",
    "                if states[j][ind[j]] == H - 1:\n",
    "                    iscorrect = False\n",
    "            if iscorrect == False:\n",
    "                continue\n",
    "            for j in range(0, batch):\n",
    "                if used[j]:\n",
    "                    continue\n",
    "                p_B = 0\n",
    "                for i in range(0, D):\n",
    "                    if states[j][i] >= 1:\n",
    "                        p_B += 1\n",
    "                p_B = max(p_B, 1)\n",
    "                ways[j].append([Fs[j], torch.log(p_Fs[j][ind[j]]), log(1 / p_B)])\n",
    "                if ind[j] == D:\n",
    "                    ways[j].append([log(reward(states[j])), 0, 0])\n",
    "                    used[j] = True\n",
    "                else:\n",
    "                    assert (states[j][ind[j]] != H - 1)\n",
    "                    states[j][ind[j]] += 1\n",
    "            break\n",
    "    loss = 0\n",
    "    for j in range(batch):\n",
    "        for i in range(0, len(ways[j]) - 1):\n",
    "            loss += (ways[j][i][0] + ways[j][i][1] - ways[j][i + 1][0] - ways[j][i + 1][2]) ** 2\n",
    "    loss /= batch\n",
    "    return loss, states"
   ]
  },
  {
   "cell_type": "code",
   "execution_count": 5,
   "id": "274ee5e7-ac57-4875-a067-fdf4f52120c3",
   "metadata": {
    "ExecuteTime": {
     "end_time": "2023-12-22T08:43:58.715072654Z",
     "start_time": "2023-12-22T08:43:58.704778437Z"
    }
   },
   "outputs": [],
   "source": [
    "rewards = torch.zeros(*[H for i in range(D)])\n",
    "coord_diap = [range(H) for _ in range(D)]\n",
    "\n",
    "for coord in product(*coord_diap):\n",
    "    rewards[tuple(coord)] = reward(torch.tensor(coord))\n",
    "\n",
    "rewards /= rewards.sum()\n",
    "\n",
    "\n",
    "def empirical_loss(a, samples=10000):\n",
    "    counter = torch.zeros(*[H for i in range(D)])\n",
    "    for i in range(samples):\n",
    "        counter[tuple(a[i])] += 1\n",
    "\n",
    "    counter /= counter.sum()\n",
    "\n",
    "    return (rewards - counter).abs().sum()"
   ]
  },
  {
   "cell_type": "code",
   "execution_count": 6,
   "id": "a777de7d-425c-4c97-987d-e98a4504332a",
   "metadata": {
    "ExecuteTime": {
     "end_time": "2023-12-22T08:43:59.755629861Z",
     "start_time": "2023-12-22T08:43:59.750303086Z"
    }
   },
   "outputs": [],
   "source": [
    "last=0\n",
    "a = []"
   ]
  },
  {
   "cell_type": "code",
   "execution_count": null,
   "id": "5a94e5f5-8e93-44fe-b7cb-6f699339af81",
   "metadata": {
    "scrolled": true
   },
   "outputs": [],
   "source": [
    "for i in range(last, op):\n",
    "    optimizer_DB.zero_grad()\n",
    "    x = loss_fn_DB()\n",
    "    loss_DB = x[0]\n",
    "    for j in x[1]:\n",
    "        a.append(j)\n",
    "    loss_DB.backward()\n",
    "    optimizer_DB.step()\n",
    "    if i % 100 == 0:\n",
    "        last = i\n",
    "        print(i * batch)\n",
    "        print(end=\"DB: \")\n",
    "        print(empirical_loss(a[-10000:], len(a[-10000:])))"
   ]
  },
  {
   "cell_type": "code",
   "execution_count": null,
   "id": "5ab8bb4d-dbaa-4b88-9ace-e74f7ec892fa",
   "metadata": {
    "collapsed": false
   },
   "outputs": [],
   "source": [
    "## %matplotlib inline\n",
    "\n",
    "sz = (len(a))\n",
    "print(sz)\n",
    "import numpy as np\n",
    "import time\n",
    "from mpl_toolkits.mplot3d import Axes3D\n",
    "import matplotlib.pyplot as plt\n",
    "from scipy.interpolate import Rbf\n",
    "\n",
    "def visualise(start, step, size):\n",
    "    counter = [[0 for i in range(H)] for j in range(H)]\n",
    "    for st in range(start//step, len(a)//step):\n",
    "        for point in a[max(0, (st+1)*step-size):(st+1)*step]:\n",
    "            counter[point[0]][point[1]] += 1\n",
    "        summ = sum([sum(i) for i in counter])\n",
    "        for i in range(H):\n",
    "            for j in range(H):\n",
    "                counter[i][j] /= summ\n",
    "                \n",
    "        x = []\n",
    "        y = []\n",
    "        z = []\n",
    "        arr = np.zeros((H, H))\n",
    "        for i in range(H):\n",
    "            for j in range(H):\n",
    "                x.append(i), y.append(j), z.append(np.exp(counter[i][j])**10)\n",
    "        \n",
    "        rbf = Rbf(x, y, z, function=\"gaussian\")\n",
    "        \n",
    "        x_new = np.linspace(-1, H, 200)\n",
    "        y_new = np.linspace(-1, H, 200)\n",
    "        \n",
    "        x_grid, y_grid = np.meshgrid(x_new, y_new)\n",
    "        z_new = rbf(x_grid.ravel(), y_grid.ravel()).reshape(x_grid.shape)\n",
    "        \n",
    "        plt.pcolor(x_new, y_new, z_new)\n",
    "        plt.xlabel(\"x\")\n",
    "        plt.ylabel(\"y\")\n",
    "        plt.title(\"RBF Gaussian interpolation\")\n",
    "        plt.savefig(f\"./render/vis{st}.png\")\n",
    "        print(f\"saved {st} frame\")"
   ]
  },
  {
   "cell_type": "code",
   "execution_count": null,
   "id": "99f4cfc3edd3b227",
   "metadata": {
    "collapsed": false
   },
   "outputs": [],
   "source": [
    "visualise(sz - 3500, 3000, 10000)"
   ]
  }
 ],
 "metadata": {
  "kernelspec": {
   "display_name": "Python 3 (ipykernel)",
   "language": "python",
   "name": "python3"
  },
  "language_info": {
   "codemirror_mode": {
    "name": "ipython",
    "version": 3
   },
   "file_extension": ".py",
   "mimetype": "text/x-python",
   "name": "python",
   "nbconvert_exporter": "python",
   "pygments_lexer": "ipython3",
   "version": "3.8.18"
  }
 },
 "nbformat": 4,
 "nbformat_minor": 5
}
