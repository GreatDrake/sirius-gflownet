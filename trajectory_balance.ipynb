{
 "cells": [
  {
   "cell_type": "code",
   "execution_count": 174,
   "id": "07c76602-8e5a-47aa-9eda-23641aeef621",
   "metadata": {},
   "outputs": [
    {
     "name": "stdout",
     "output_type": "stream",
     "text": [
      "2.1.2+cpu\n"
     ]
    }
   ],
   "source": [
    "import torch\n",
    "print(torch.__version__)\n",
    "from math import log"
   ]
  },
  {
   "cell_type": "code",
   "execution_count": 258,
   "id": "f2a7f88d-e4e4-4fd1-af9c-54d04a33c1a6",
   "metadata": {},
   "outputs": [],
   "source": [
    "D = 4\n",
    "H = 8\n",
    "R0 = 0.1\n",
    "hidden_size = 250"
   ]
  },
  {
   "cell_type": "code",
   "execution_count": 277,
   "id": "99ea75a3-67a2-403d-b611-a531238b4e34",
   "metadata": {},
   "outputs": [],
   "source": [
    "from collections import OrderedDict\n",
    "\n",
    "model = torch.nn.Sequential(\n",
    "    OrderedDict([\n",
    "        (\"linear_1\", torch.nn.Linear(D * H, hidden_size)),\n",
    "        (\"activation_1\", torch.nn.ReLU()),\n",
    "        (\"linear_2\", torch.nn.Linear(hidden_size, D + 1))\n",
    "    ])\n",
    ")\n",
    "log_Z = torch.nn.Parameter(torch.tensor(0.0, requires_grad=True))\n",
    "log_Z_optimizer = torch.optim.Adam([log_Z], 0.01)"
   ]
  },
  {
   "cell_type": "code",
   "execution_count": 278,
   "id": "720e19e3-a941-4814-817a-ceddaa048934",
   "metadata": {},
   "outputs": [],
   "source": [
    "optimizer = torch.optim.SGD(\n",
    "    model.parameters(),  # Передаём все тензоры, учавствующие в градиентном спуске\n",
    "    lr=0.003,  # learning rate - величина шага градиентного спуска\n",
    ")\n"
   ]
  },
  {
   "cell_type": "code",
   "execution_count": 279,
   "id": "df583d8a-a4b8-4cb1-b84c-49ae618eb839",
   "metadata": {},
   "outputs": [],
   "source": [
    "def RIGHT_staaate(state):\n",
    "    global H, D\n",
    "    res = []\n",
    "    for i in range(0, D):\n",
    "        for j in range(0, H):\n",
    "            res.append(float(0) + (state[i] == j))\n",
    "    return res"
   ]
  },
  {
   "cell_type": "code",
   "execution_count": 280,
   "id": "a6f0f3d3-f59b-4361-a4bf-addc1ee29dec",
   "metadata": {},
   "outputs": [],
   "source": [
    "def reward(x):\n",
    "    global R0, D, H\n",
    "    f1 = True\n",
    "    f2 = True\n",
    "    for d in range(D):\n",
    "        if not (0.25 < abs(x[d] / (H - 1) - 0.5) <= 0.5): f1 = False\n",
    "        if not (0.3 < abs(x[d] / (H - 1) - 0.5) < 0.4): f2 = False\n",
    "    return (R0 + 0.5 * f1 + 2 * f2)\n"
   ]
  },
  {
   "cell_type": "code",
   "execution_count": 291,
   "id": "c1e83928-d84f-4406-8112-deecf1effad7",
   "metadata": {},
   "outputs": [],
   "source": [
    "def loss_fn():\n",
    "    global H, D, log_Z\n",
    "    state = [0] * D\n",
    "    way = []\n",
    "    while True:\n",
    "        pred = model(torch.tensor(RIGHT_staaate(state)))\n",
    "        p_Fs = pred\n",
    "        p_B = 0\n",
    "        for i in range(0, D):\n",
    "            if state[i] == H - 1:\n",
    "                p_Fs[i] = -float(\"inf\")\n",
    "            if state[i] > 0:\n",
    "                p_B += 1\n",
    "        m = torch.nn.Softmax(dim=0)\n",
    "        p_Fs = m(p_Fs)\n",
    "        ind = torch.distributions.categorical.Categorical(p_Fs).sample()\n",
    "        p_B = max(p_B, 1)\n",
    "        way.append([torch.log(p_Fs[ind]), 1 / p_B])\n",
    "        if ind == D:\n",
    "            way.append([0, 1])\n",
    "            break\n",
    "        state[ind] += 1\n",
    "    loss = log_Z - log(reward(state))\n",
    "    for i in range(0, len(way) - 1):\n",
    "        loss += way[i][0] - log(way[i + 1][1])\n",
    "    loss = loss ** 2\n",
    "    return loss, state"
   ]
  },
  {
   "cell_type": "code",
   "execution_count": 292,
   "id": "10ad5783-00ef-41ca-aa0a-af26f9ec461e",
   "metadata": {},
   "outputs": [],
   "source": [
    "def random_WAy():\n",
    "    global H, D\n",
    "    state = [0] * D\n",
    "    while True:\n",
    "        pred = model(torch.tensor(RIGHT_staaate(state)))\n",
    "        p_Fs = pred\n",
    "        for i in range(0, D):\n",
    "            if state[i] == H - 1:\n",
    "                p_Fs[i] = -float(\"inf\")\n",
    "        m = torch.nn.Softmax(dim=0)\n",
    "        p_Fs = m(p_Fs)\n",
    "        ind = torch.distributions.categorical.Categorical(p_Fs).sample()\n",
    "        if ind == D:\n",
    "            break\n",
    "        state[ind] += 1\n",
    "    return state"
   ]
  },
  {
   "cell_type": "code",
   "execution_count": 293,
   "id": "0cfbb6e8-7f82-49cb-a0ac-47166d49fdde",
   "metadata": {},
   "outputs": [
    {
     "data": {
      "text/plain": [
       "[0, 0, 0, 0]"
      ]
     },
     "execution_count": 293,
     "metadata": {},
     "output_type": "execute_result"
    }
   ],
   "source": [
    " random_WAy()"
   ]
  },
  {
   "cell_type": "code",
   "execution_count": 294,
   "id": "91478af8-1a80-45a4-9aaa-36af5e5f13e7",
   "metadata": {},
   "outputs": [],
   "source": [
    "from itertools import product\n",
    "\n",
    "rewards = torch.zeros(*[H for i in range(D)])\n",
    "coord_diap = [range(H) for _ in range(D)]\n",
    "\n",
    "for coord in product(*coord_diap):\n",
    "    rewards[tuple(coord)] = reward(torch.tensor(coord))\n",
    "\n",
    "rewards /= rewards.sum()\n",
    "\n",
    "def loss2(a, samples=1000):\n",
    "    counter = torch.zeros(*[H for i in range(D)])\n",
    "    for i in range(samples):\n",
    "        counter[tuple(a[i])] += 1\n",
    "\n",
    "    counter /= counter.sum()\n",
    "\n",
    "    return (rewards - counter).abs().sum()\n"
   ]
  },
  {
   "cell_type": "code",
   "execution_count": null,
   "id": "5a94e5f5-8e93-44fe-b7cb-6f699339af81",
   "metadata": {},
   "source": [
    "a = []\n",
    "for i in range(0, 100000):\n",
    "    optimizer.zero_grad()\n",
    "    log_Z_optimizer.zero_grad()\n",
    "    x = loss_fn()\n",
    "    loss = x[0]\n",
    "    smpl = x[1]\n",
    "    a.append(smpl)\n",
    "    loss.backward()\n",
    "    log_Z_optimizer.step()\n",
    "    optimizer.step()\n",
    "    if i % 100 == 0:\n",
    "        print(i)\n",
    "        print(loss2(a[-10000:], len(a[-10000:])))"
   ]
  },
  {
   "cell_type": "code",
   "execution_count": null,
   "id": "1a495fa7-e050-4044-89a6-e6f704f2d864",
   "metadata": {},
   "outputs": [],
   "source": []
  },
  {
   "cell_type": "code",
   "execution_count": null,
   "id": "321fd4eb-afeb-4b31-af68-409fc63d02e4",
   "metadata": {},
   "outputs": [],
   "source": []
  },
  {
   "cell_type": "code",
   "execution_count": null,
   "id": "652fde47-0a82-47e3-87a7-e932f4d90a04",
   "metadata": {},
   "outputs": [],
   "source": []
  }
 ],
 "metadata": {
  "kernelspec": {
   "display_name": "Python 3 (ipykernel)",
   "language": "python",
   "name": "python3"
  },
  "language_info": {
   "codemirror_mode": {
    "name": "ipython",
    "version": 3
   },
   "file_extension": ".py",
   "mimetype": "text/x-python",
   "name": "python",
   "nbconvert_exporter": "python",
   "pygments_lexer": "ipython3",
   "version": "3.11.7"
  }
 },
 "nbformat": 4,
 "nbformat_minor": 5
}
